{
 "cells": [
  {
   "cell_type": "code",
   "execution_count": 2,
   "metadata": {},
   "outputs": [],
   "source": [
    "from sklearn.neighbors import KNeighborsRegressor\n",
    "from sklearn.datasets import load_boston\n",
    "from sklearn.preprocessing import scale\n",
    "from sklearn.model_selection import KFold\n",
    "from sklearn.model_selection import cross_val_score\n",
    "\n",
    "import pandas as pd\n",
    "import numpy as np"
   ]
  },
  {
   "cell_type": "code",
   "execution_count": 3,
   "metadata": {},
   "outputs": [],
   "source": [
    "boston = load_boston()\n",
    "y = boston.target\n",
    "X = boston.data\n",
    "X = scale(X)\n",
    "kf = KFold(n_splits=5, shuffle=True, random_state=42)\n",
    "pgrid = np.linspace(1, 10, 200)\n",
    "alpha = {}\n",
    "for el in pgrid:\n",
    "    knr = KNeighborsRegressor(n_neighbors=5,\n",
    "                          weights='distance',\n",
    "                          metric = 'minkowski',\n",
    "                          p = el)\n",
    "    alpha[round(el, 1)] = round(cross_val_score(knr, X, y, cv=kf, scoring = 'neg_mean_squared_error').mean(), 1)"
   ]
  },
  {
   "cell_type": "code",
   "execution_count": 5,
   "metadata": {},
   "outputs": [],
   "source": [
    "file_answer = open(r\"C:\\Users\\One\\Git\\coursera_introduction\\week2\\answer.txt\", \"w\")\n",
    "file_answer.write(repr(max(alpha.values())))\n",
    "file_answer.close()"
   ]
  },
  {
   "cell_type": "code",
   "execution_count": null,
   "metadata": {},
   "outputs": [],
   "source": []
  }
 ],
 "metadata": {
  "kernelspec": {
   "display_name": "Python 3",
   "language": "python",
   "name": "python3"
  },
  "language_info": {
   "codemirror_mode": {
    "name": "ipython",
    "version": 3
   },
   "file_extension": ".py",
   "mimetype": "text/x-python",
   "name": "python",
   "nbconvert_exporter": "python",
   "pygments_lexer": "ipython3",
   "version": "3.7.3"
  }
 },
 "nbformat": 4,
 "nbformat_minor": 2
}
