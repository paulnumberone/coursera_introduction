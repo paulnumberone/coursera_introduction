{
 "cells": [
  {
   "cell_type": "code",
   "execution_count": 5,
   "metadata": {},
   "outputs": [],
   "source": [
    "import pandas as pd\n",
    "import numpy as np\n",
    "from sklearn.neighbors import KNeighborsClassifier\n",
    "from sklearn.model_selection import KFold\n",
    "from sklearn.model_selection import cross_val_score\n",
    "from sklearn import preprocessing"
   ]
  },
  {
   "cell_type": "code",
   "execution_count": 6,
   "metadata": {},
   "outputs": [],
   "source": [
    "df = pd.read_csv(r'C:\\Users\\One\\Git\\coursera_introduction\\week2\\wine.data')\n",
    "y = df['1']\n",
    "X = df.drop(['1'], axis = 1)\n",
    "kf = KFold(n_splits=5, shuffle=True, random_state=42)"
   ]
  },
  {
   "cell_type": "code",
   "execution_count": 7,
   "metadata": {},
   "outputs": [
    {
     "name": "stdout",
     "output_type": "stream",
     "text": [
      "1 0.74\n",
      "2 0.67\n",
      "3 0.72\n",
      "4 0.65\n",
      "5 0.71\n",
      "6 0.69\n",
      "7 0.72\n",
      "8 0.7\n",
      "9 0.71\n",
      "10 0.68\n",
      "11 0.68\n",
      "12 0.68\n",
      "13 0.72\n",
      "14 0.72\n",
      "15 0.74\n",
      "16 0.73\n",
      "17 0.73\n",
      "18 0.73\n",
      "19 0.72\n",
      "20 0.73\n",
      "21 0.71\n",
      "22 0.71\n",
      "23 0.71\n",
      "24 0.72\n",
      "25 0.73\n",
      "26 0.72\n",
      "27 0.73\n",
      "28 0.73\n",
      "29 0.72\n",
      "30 0.72\n",
      "31 0.72\n",
      "32 0.72\n",
      "33 0.72\n",
      "34 0.71\n",
      "35 0.71\n",
      "36 0.7\n",
      "37 0.71\n",
      "38 0.7\n",
      "39 0.71\n",
      "40 0.71\n",
      "41 0.71\n",
      "42 0.71\n",
      "43 0.71\n",
      "44 0.7\n",
      "45 0.7\n",
      "46 0.71\n",
      "47 0.7\n",
      "48 0.7\n",
      "49 0.7\n",
      "50 0.7\n"
     ]
    }
   ],
   "source": [
    "for k in np.arange(1, 51):\n",
    "    knn = KNeighborsClassifier(n_jobs = -1, n_neighbors = k)\n",
    "    print(k, round(cross_val_score(knn, X, y, cv=kf, scoring = 'accuracy').mean(), 2))"
   ]
  },
  {
   "cell_type": "code",
   "execution_count": 8,
   "metadata": {},
   "outputs": [
    {
     "name": "stderr",
     "output_type": "stream",
     "text": [
      "C:\\ProgramData\\Anaconda3\\lib\\site-packages\\ipykernel_launcher.py:1: DataConversionWarning: Data with input dtype int64, float64 were all converted to float64 by the scale function.\n",
      "  \"\"\"Entry point for launching an IPython kernel.\n"
     ]
    },
    {
     "data": {
      "text/plain": [
       "5"
      ]
     },
     "execution_count": 8,
     "metadata": {},
     "output_type": "execute_result"
    }
   ],
   "source": [
    "X_scaled = preprocessing.scale(X, axis=0)\n",
    "kf = KFold(n_splits=5, shuffle=True, random_state=42)\n",
    "kf.get_n_splits(X_scaled)"
   ]
  },
  {
   "cell_type": "code",
   "execution_count": 9,
   "metadata": {},
   "outputs": [
    {
     "name": "stdout",
     "output_type": "stream",
     "text": [
      "1 0.95\n",
      "2 0.94\n",
      "3 0.94\n",
      "4 0.94\n",
      "5 0.95\n",
      "6 0.95\n",
      "7 0.97\n",
      "8 0.97\n",
      "9 0.96\n",
      "10 0.97\n",
      "11 0.96\n",
      "12 0.96\n",
      "13 0.96\n",
      "14 0.96\n",
      "15 0.97\n",
      "16 0.96\n",
      "17 0.96\n",
      "18 0.96\n",
      "19 0.97\n",
      "20 0.97\n",
      "21 0.97\n",
      "22 0.96\n",
      "23 0.97\n",
      "24 0.97\n",
      "25 0.97\n",
      "26 0.97\n",
      "27 0.97\n",
      "28 0.98\n",
      "29 0.98\n",
      "30 0.98\n",
      "31 0.98\n",
      "32 0.98\n",
      "33 0.98\n",
      "34 0.98\n",
      "35 0.98\n",
      "36 0.98\n",
      "37 0.98\n",
      "38 0.97\n",
      "39 0.97\n",
      "40 0.97\n",
      "41 0.97\n",
      "42 0.97\n",
      "43 0.97\n",
      "44 0.97\n",
      "45 0.97\n",
      "46 0.97\n",
      "47 0.97\n",
      "48 0.97\n",
      "49 0.97\n",
      "50 0.97\n"
     ]
    }
   ],
   "source": [
    "for k in np.arange(1, 51):\n",
    "    knn = KNeighborsClassifier(n_jobs = -1, n_neighbors = k)\n",
    "    print(k, round(cross_val_score(knn, X_scaled, y, cv=kf, scoring = 'accuracy').mean(), 2))"
   ]
  },
  {
   "cell_type": "code",
   "execution_count": null,
   "metadata": {},
   "outputs": [],
   "source": []
  }
 ],
 "metadata": {
  "kernelspec": {
   "display_name": "Python 3",
   "language": "python",
   "name": "python3"
  },
  "language_info": {
   "codemirror_mode": {
    "name": "ipython",
    "version": 3
   },
   "file_extension": ".py",
   "mimetype": "text/x-python",
   "name": "python",
   "nbconvert_exporter": "python",
   "pygments_lexer": "ipython3",
   "version": "3.7.3"
  }
 },
 "nbformat": 4,
 "nbformat_minor": 2
}
