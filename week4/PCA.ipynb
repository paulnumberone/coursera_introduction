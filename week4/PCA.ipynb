{
 "cells": [
  {
   "cell_type": "code",
   "execution_count": 34,
   "metadata": {},
   "outputs": [],
   "source": [
    "import pandas as pd\n",
    "import numpy as np\n",
    "from sklearn.metrics import roc_auc_score\n",
    "from sklearn.decomposition import PCA"
   ]
  },
  {
   "cell_type": "code",
   "execution_count": 128,
   "metadata": {},
   "outputs": [],
   "source": [
    "df_train = pd.read_csv(r\"C:\\Users\\One\\Git\\coursera_introduction\\week4\\close_prices.csv\")\n",
    "y = pd.read_csv(r\"C:\\Users\\One\\Git\\coursera_introduction\\week4\\djia_index.csv\")\n",
    "df_train = df_train.drop('date', axis = 1)"
   ]
  },
  {
   "cell_type": "code",
   "execution_count": 129,
   "metadata": {},
   "outputs": [
    {
     "data": {
      "text/plain": [
       "PCA(copy=True, iterated_power='auto', n_components=10, random_state=None,\n",
       "  svd_solver='auto', tol=0.0, whiten=False)"
      ]
     },
     "execution_count": 129,
     "metadata": {},
     "output_type": "execute_result"
    }
   ],
   "source": [
    "pca = PCA(n_components = 10)\n",
    "pca.fit(df_train)"
   ]
  },
  {
   "cell_type": "code",
   "execution_count": 130,
   "metadata": {},
   "outputs": [
    {
     "data": {
      "text/plain": [
       "array([0.73897118, 0.11007169, 0.04995088, 0.0287492 , 0.02215448,\n",
       "       0.01931577, 0.00674853, 0.00614091, 0.00320594, 0.00305611])"
      ]
     },
     "execution_count": 130,
     "metadata": {},
     "output_type": "execute_result"
    }
   ],
   "source": [
    "pca.explained_variance_ratio_"
   ]
  },
  {
   "cell_type": "code",
   "execution_count": 131,
   "metadata": {},
   "outputs": [
    {
     "data": {
      "text/plain": [
       "True"
      ]
     },
     "execution_count": 131,
     "metadata": {},
     "output_type": "execute_result"
    }
   ],
   "source": [
    "sum([0.73897118, 0.11007169, 0.04995088, 0.0287492]) > 0.9"
   ]
  },
  {
   "cell_type": "code",
   "execution_count": 132,
   "metadata": {},
   "outputs": [],
   "source": [
    "df_train2 = pca.transform(df_train)"
   ]
  },
  {
   "cell_type": "code",
   "execution_count": 133,
   "metadata": {},
   "outputs": [],
   "source": [
    "X = pd.DataFrame(df_train2)[0]"
   ]
  },
  {
   "cell_type": "code",
   "execution_count": 134,
   "metadata": {},
   "outputs": [],
   "source": [
    "y = pd.DataFrame(y)"
   ]
  },
  {
   "cell_type": "code",
   "execution_count": 135,
   "metadata": {},
   "outputs": [
    {
     "data": {
      "text/plain": [
       "0      15401.379883\n",
       "1      15334.589844\n",
       "2      15273.259766\n",
       "3      15328.299805\n",
       "4      15258.240234\n",
       "5      15129.669922\n",
       "6      15191.700195\n",
       "7      15133.139648\n",
       "8      14996.480469\n",
       "9      15072.580078\n",
       "10     14936.240234\n",
       "11     14776.530273\n",
       "12     14802.980469\n",
       "13     15126.070312\n",
       "14     15237.110352\n",
       "15     15301.259766\n",
       "16     15168.009766\n",
       "17     15373.830078\n",
       "18     15371.650391\n",
       "19     15399.650391\n",
       "20     15392.200195\n",
       "21     15467.660156\n",
       "22     15413.330078\n",
       "23     15509.209961\n",
       "24     15570.280273\n",
       "25     15568.929688\n",
       "26     15680.349609\n",
       "27     15618.759766\n",
       "28     15545.750000\n",
       "29     15615.549805\n",
       "           ...     \n",
       "344    17673.019531\n",
       "345    17884.880859\n",
       "346    17824.289062\n",
       "347    17729.210938\n",
       "348    17868.759766\n",
       "349    17862.140625\n",
       "350    17972.380859\n",
       "351    18019.349609\n",
       "352    18047.580078\n",
       "353    18029.849609\n",
       "354    17985.769531\n",
       "355    18140.439453\n",
       "356    18116.839844\n",
       "357    18209.189453\n",
       "358    18224.570312\n",
       "359    18214.419922\n",
       "360    18132.699219\n",
       "361    18288.630859\n",
       "362    18203.369141\n",
       "363    18096.900391\n",
       "364    18135.720703\n",
       "365    17856.779297\n",
       "366    17995.720703\n",
       "367    17662.939453\n",
       "368    17635.390625\n",
       "369    17895.220703\n",
       "370    17749.310547\n",
       "371    17977.419922\n",
       "372    17849.080078\n",
       "373    18076.189453\n",
       "Name: ^DJI, Length: 374, dtype: float64"
      ]
     },
     "execution_count": 135,
     "metadata": {},
     "output_type": "execute_result"
    }
   ],
   "source": [
    "y['^DJI']"
   ]
  },
  {
   "cell_type": "code",
   "execution_count": 141,
   "metadata": {},
   "outputs": [
    {
     "data": {
      "text/plain": [
       "array([[1.        , 0.90965222],\n",
       "       [0.90965222, 1.        ]])"
      ]
     },
     "execution_count": 141,
     "metadata": {},
     "output_type": "execute_result"
    }
   ],
   "source": [
    "np.corrcoef(X, y['^DJI'])"
   ]
  },
  {
   "cell_type": "code",
   "execution_count": 142,
   "metadata": {},
   "outputs": [
    {
     "data": {
      "text/plain": [
       "0.9096522193050236"
      ]
     },
     "execution_count": 142,
     "metadata": {},
     "output_type": "execute_result"
    }
   ],
   "source": [
    "np.corrcoef(X, y['^DJI'])[0, 1]"
   ]
  },
  {
   "cell_type": "code",
   "execution_count": 139,
   "metadata": {},
   "outputs": [
    {
     "data": {
      "text/plain": [
       "'V'"
      ]
     },
     "execution_count": 139,
     "metadata": {},
     "output_type": "execute_result"
    }
   ],
   "source": [
    "df_train.columns[list(pca.components_[0]).index(max(pca.components_[0]))]"
   ]
  },
  {
   "cell_type": "code",
   "execution_count": null,
   "metadata": {},
   "outputs": [],
   "source": []
  }
 ],
 "metadata": {
  "kernelspec": {
   "display_name": "Python 3",
   "language": "python",
   "name": "python3"
  },
  "language_info": {
   "codemirror_mode": {
    "name": "ipython",
    "version": 3
   },
   "file_extension": ".py",
   "mimetype": "text/x-python",
   "name": "python",
   "nbconvert_exporter": "python",
   "pygments_lexer": "ipython3",
   "version": "3.7.3"
  }
 },
 "nbformat": 4,
 "nbformat_minor": 2
}
