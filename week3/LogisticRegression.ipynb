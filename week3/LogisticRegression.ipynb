{
 "cells": [
  {
   "cell_type": "code",
   "execution_count": 18,
   "metadata": {},
   "outputs": [],
   "source": [
    "import pandas as pd\n",
    "import numpy as np\n",
    "from sklearn.svm import SVC\n",
    "from sklearn.metrics import roc_auc_score\n",
    "from sklearn.linear_model import SGDClassifier"
   ]
  },
  {
   "cell_type": "code",
   "execution_count": 19,
   "metadata": {},
   "outputs": [
    {
     "data": {
      "text/html": [
       "<div>\n",
       "<style scoped>\n",
       "    .dataframe tbody tr th:only-of-type {\n",
       "        vertical-align: middle;\n",
       "    }\n",
       "\n",
       "    .dataframe tbody tr th {\n",
       "        vertical-align: top;\n",
       "    }\n",
       "\n",
       "    .dataframe thead th {\n",
       "        text-align: right;\n",
       "    }\n",
       "</style>\n",
       "<table border=\"1\" class=\"dataframe\">\n",
       "  <thead>\n",
       "    <tr style=\"text-align: right;\">\n",
       "      <th></th>\n",
       "      <th>0</th>\n",
       "      <th>1</th>\n",
       "      <th>2</th>\n",
       "    </tr>\n",
       "  </thead>\n",
       "  <tbody>\n",
       "    <tr>\n",
       "      <th>0</th>\n",
       "      <td>-1</td>\n",
       "      <td>-0.663827</td>\n",
       "      <td>-0.138526</td>\n",
       "    </tr>\n",
       "    <tr>\n",
       "      <th>1</th>\n",
       "      <td>1</td>\n",
       "      <td>1.994596</td>\n",
       "      <td>2.468025</td>\n",
       "    </tr>\n",
       "  </tbody>\n",
       "</table>\n",
       "</div>"
      ],
      "text/plain": [
       "   0         1         2\n",
       "0 -1 -0.663827 -0.138526\n",
       "1  1  1.994596  2.468025"
      ]
     },
     "execution_count": 19,
     "metadata": {},
     "output_type": "execute_result"
    }
   ],
   "source": [
    "df = pd.read_csv(r\"C:\\Users\\One\\Git\\coursera_introduction\\week3\\data-logistic.csv\", header = None)\n",
    "df.head(2)"
   ]
  },
  {
   "cell_type": "code",
   "execution_count": 20,
   "metadata": {},
   "outputs": [],
   "source": [
    "y = df[0]\n",
    "X = df[[1,2]]"
   ]
  },
  {
   "cell_type": "code",
   "execution_count": 23,
   "metadata": {},
   "outputs": [
    {
     "name": "stderr",
     "output_type": "stream",
     "text": [
      "C:\\ProgramData\\Anaconda3\\lib\\site-packages\\ipykernel_launcher.py:1: FutureWarning: Method .as_matrix will be removed in a future version. Use .values instead.\n",
      "  \"\"\"Entry point for launching an IPython kernel.\n",
      "C:\\ProgramData\\Anaconda3\\lib\\site-packages\\ipykernel_launcher.py:2: FutureWarning: Method .as_matrix will be removed in a future version. Use .values instead.\n",
      "  \n"
     ]
    }
   ],
   "source": [
    "X_=df[[1,2]].as_matrix()\n",
    "y_=df[0].as_matrix()"
   ]
  },
  {
   "cell_type": "code",
   "execution_count": 26,
   "metadata": {},
   "outputs": [
    {
     "name": "stdout",
     "output_type": "stream",
     "text": [
      "0  evklid distance: 0.04181737\n",
      "1  evklid distance: 0.03224799\n",
      "2  evklid distance: 0.02583146\n",
      "3  evklid distance: 0.02132318\n",
      "4  evklid distance: 0.01797913\n",
      "5  evklid distance: 0.01539053\n",
      "6  evklid distance: 0.01332324\n",
      "7  evklid distance: 0.01163442\n",
      "8  evklid distance: 0.01023160\n",
      "9  evklid distance: 0.00905171\n",
      "10  evklid distance: 0.00804988\n",
      "11  evklid distance: 0.00719301\n",
      "12  evklid distance: 0.00645596\n",
      "13  evklid distance: 0.00581916\n",
      "14  evklid distance: 0.00526704\n",
      "15  evklid distance: 0.00478701\n",
      "16  evklid distance: 0.00436873\n",
      "17  evklid distance: 0.00400356\n",
      "18  evklid distance: 0.00368425\n",
      "19  evklid distance: 0.00340463\n",
      "20  evklid distance: 0.00315941\n",
      "21  evklid distance: 0.00294400\n",
      "22  evklid distance: 0.00275444\n",
      "23  evklid distance: 0.00258729\n",
      "24  evklid distance: 0.00243952\n",
      "25  evklid distance: 0.00230852\n",
      "26  evklid distance: 0.00219199\n",
      "27  evklid distance: 0.00208794\n",
      "28  evklid distance: 0.00199464\n",
      "29  evklid distance: 0.00191059\n",
      "30  evklid distance: 0.00183449\n",
      "31  evklid distance: 0.00176524\n",
      "32  evklid distance: 0.00170189\n",
      "33  evklid distance: 0.00164360\n",
      "34  evklid distance: 0.00158970\n",
      "35  evklid distance: 0.00153960\n",
      "36  evklid distance: 0.00149278\n",
      "37  evklid distance: 0.00144883\n",
      "38  evklid distance: 0.00140739\n",
      "39  evklid distance: 0.00136815\n",
      "40  evklid distance: 0.00133085\n",
      "41  evklid distance: 0.00129529\n",
      "42  evklid distance: 0.00126128\n",
      "43  evklid distance: 0.00122865\n",
      "44  evklid distance: 0.00119729\n",
      "45  evklid distance: 0.00116707\n",
      "46  evklid distance: 0.00113790\n",
      "47  evklid distance: 0.00110970\n",
      "48  evklid distance: 0.00108241\n",
      "49  evklid distance: 0.00105595\n",
      "50  evklid distance: 0.00103027\n",
      "51  evklid distance: 0.00100534\n",
      "52  evklid distance: 0.00098110\n",
      "53  evklid distance: 0.00095753\n",
      "54  evklid distance: 0.00093460\n",
      "55  evklid distance: 0.00091227\n",
      "56  evklid distance: 0.00089052\n",
      "57  evklid distance: 0.00086933\n",
      "58  evklid distance: 0.00084867\n",
      "59  evklid distance: 0.00082854\n",
      "60  evklid distance: 0.00080891\n",
      "61  evklid distance: 0.00078976\n",
      "62  evklid distance: 0.00077108\n",
      "63  evklid distance: 0.00075286\n",
      "64  evklid distance: 0.00073508\n",
      "65  evklid distance: 0.00071773\n",
      "66  evklid distance: 0.00070080\n",
      "67  evklid distance: 0.00068428\n",
      "68  evklid distance: 0.00066815\n",
      "69  evklid distance: 0.00065241\n",
      "70  evklid distance: 0.00063705\n",
      "71  evklid distance: 0.00062205\n",
      "72  evklid distance: 0.00060741\n",
      "73  evklid distance: 0.00059311\n",
      "74  evklid distance: 0.00057916\n",
      "75  evklid distance: 0.00056554\n",
      "76  evklid distance: 0.00055224\n",
      "77  evklid distance: 0.00053926\n",
      "78  evklid distance: 0.00052658\n",
      "79  evklid distance: 0.00051420\n",
      "80  evklid distance: 0.00050212\n",
      "81  evklid distance: 0.00049032\n",
      "82  evklid distance: 0.00047880\n",
      "83  evklid distance: 0.00046756\n",
      "84  evklid distance: 0.00045657\n",
      "85  evklid distance: 0.00044585\n",
      "86  evklid distance: 0.00043538\n",
      "87  evklid distance: 0.00042516\n",
      "88  evklid distance: 0.00041518\n",
      "89  evklid distance: 0.00040543\n",
      "90  evklid distance: 0.00039592\n",
      "91  evklid distance: 0.00038662\n",
      "92  evklid distance: 0.00037755\n",
      "93  evklid distance: 0.00036869\n",
      "94  evklid distance: 0.00036004\n",
      "95  evklid distance: 0.00035159\n",
      "96  evklid distance: 0.00034335\n",
      "97  evklid distance: 0.00033529\n",
      "98  evklid distance: 0.00032743\n",
      "99  evklid distance: 0.00031975\n",
      "100  evklid distance: 0.00031225\n",
      "101  evklid distance: 0.00030493\n",
      "102  evklid distance: 0.00029778\n",
      "103  evklid distance: 0.00029080\n",
      "104  evklid distance: 0.00028398\n",
      "105  evklid distance: 0.00027732\n",
      "106  evklid distance: 0.00027082\n",
      "107  evklid distance: 0.00026447\n",
      "108  evklid distance: 0.00025827\n",
      "109  evklid distance: 0.00025222\n",
      "110  evklid distance: 0.00024631\n",
      "111  evklid distance: 0.00024054\n",
      "112  evklid distance: 0.00023490\n",
      "113  evklid distance: 0.00022940\n",
      "114  evklid distance: 0.00022402\n",
      "115  evklid distance: 0.00021877\n",
      "116  evklid distance: 0.00021365\n",
      "117  evklid distance: 0.00020864\n",
      "118  evklid distance: 0.00020376\n",
      "119  evklid distance: 0.00019898\n",
      "120  evklid distance: 0.00019432\n",
      "121  evklid distance: 0.00018977\n",
      "122  evklid distance: 0.00018533\n",
      "123  evklid distance: 0.00018099\n",
      "124  evklid distance: 0.00017675\n",
      "125  evklid distance: 0.00017261\n",
      "126  evklid distance: 0.00016857\n",
      "127  evklid distance: 0.00016462\n",
      "128  evklid distance: 0.00016076\n",
      "129  evklid distance: 0.00015700\n",
      "130  evklid distance: 0.00015332\n",
      "131  evklid distance: 0.00014974\n",
      "132  evklid distance: 0.00014623\n",
      "133  evklid distance: 0.00014281\n",
      "134  evklid distance: 0.00013946\n",
      "135  evklid distance: 0.00013620\n",
      "136  evklid distance: 0.00013301\n",
      "137  evklid distance: 0.00012990\n",
      "138  evklid distance: 0.00012686\n",
      "139  evklid distance: 0.00012389\n",
      "140  evklid distance: 0.00012099\n",
      "141  evklid distance: 0.00011816\n",
      "142  evklid distance: 0.00011539\n",
      "143  evklid distance: 0.00011269\n",
      "144  evklid distance: 0.00011005\n",
      "145  evklid distance: 0.00010748\n",
      "146  evklid distance: 0.00010496\n",
      "147  evklid distance: 0.00010251\n",
      "148  evklid distance: 0.00010011\n",
      "149  evklid distance: 0.00009777\n",
      "150  evklid distance: 0.00009548\n",
      "151  evklid distance: 0.00009324\n",
      "152  evklid distance: 0.00009106\n",
      "153  evklid distance: 0.00008893\n",
      "154  evklid distance: 0.00008685\n",
      "155  evklid distance: 0.00008482\n",
      "156  evklid distance: 0.00008283\n",
      "157  evklid distance: 0.00008090\n",
      "158  evklid distance: 0.00007900\n",
      "159  evklid distance: 0.00007716\n",
      "160  evklid distance: 0.00007535\n",
      "161  evklid distance: 0.00007359\n",
      "162  evklid distance: 0.00007187\n",
      "163  evklid distance: 0.00007019\n",
      "164  evklid distance: 0.00006854\n",
      "165  evklid distance: 0.00006694\n",
      "166  evklid distance: 0.00006537\n",
      "167  evklid distance: 0.00006385\n",
      "168  evklid distance: 0.00006235\n",
      "169  evklid distance: 0.00006089\n",
      "170  evklid distance: 0.00005947\n",
      "171  evklid distance: 0.00005808\n",
      "172  evklid distance: 0.00005672\n",
      "173  evklid distance: 0.00005539\n",
      "174  evklid distance: 0.00005410\n",
      "175  evklid distance: 0.00005283\n",
      "176  evklid distance: 0.00005160\n",
      "177  evklid distance: 0.00005039\n",
      "178  evklid distance: 0.00004921\n",
      "179  evklid distance: 0.00004806\n",
      "180  evklid distance: 0.00004694\n",
      "181  evklid distance: 0.00004584\n",
      "182  evklid distance: 0.00004477\n",
      "183  evklid distance: 0.00004372\n",
      "184  evklid distance: 0.00004270\n",
      "185  evklid distance: 0.00004170\n",
      "186  evklid distance: 0.00004072\n",
      "187  evklid distance: 0.00003977\n",
      "188  evklid distance: 0.00003884\n",
      "189  evklid distance: 0.00003793\n",
      "190  evklid distance: 0.00003705\n",
      "191  evklid distance: 0.00003618\n",
      "192  evklid distance: 0.00003533\n",
      "193  evklid distance: 0.00003451\n",
      "194  evklid distance: 0.00003370\n",
      "195  evklid distance: 0.00003291\n",
      "196  evklid distance: 0.00003214\n",
      "197  evklid distance: 0.00003139\n",
      "198  evklid distance: 0.00003066\n",
      "199  evklid distance: 0.00002994\n",
      "200  evklid distance: 0.00002924\n",
      "201  evklid distance: 0.00002856\n",
      "202  evklid distance: 0.00002789\n",
      "203  evklid distance: 0.00002724\n",
      "204  evklid distance: 0.00002660\n",
      "205  evklid distance: 0.00002598\n",
      "206  evklid distance: 0.00002537\n",
      "207  evklid distance: 0.00002478\n",
      "208  evklid distance: 0.00002420\n",
      "209  evklid distance: 0.00002363\n",
      "210  evklid distance: 0.00002308\n",
      "211  evklid distance: 0.00002254\n",
      "212  evklid distance: 0.00002201\n",
      "213  evklid distance: 0.00002150\n",
      "214  evklid distance: 0.00002100\n",
      "215  evklid distance: 0.00002051\n",
      "216  evklid distance: 0.00002003\n",
      "217  evklid distance: 0.00001956\n",
      "218  evklid distance: 0.00001910\n",
      "219  evklid distance: 0.00001865\n",
      "220  evklid distance: 0.00001822\n",
      "221  evklid distance: 0.00001779\n",
      "222  evklid distance: 0.00001738\n",
      "223  evklid distance: 0.00001697\n",
      "224  evklid distance: 0.00001657\n",
      "225  evklid distance: 0.00001619\n",
      "226  evklid distance: 0.00001581\n",
      "227  evklid distance: 0.00001544\n",
      "228  evklid distance: 0.00001508\n",
      "229  evklid distance: 0.00001472\n",
      "230  evklid distance: 0.00001438\n",
      "231  evklid distance: 0.00001404\n",
      "232  evklid distance: 0.00001372\n",
      "233  evklid distance: 0.00001339\n",
      "234  evklid distance: 0.00001308\n",
      "235  evklid distance: 0.00001278\n",
      "236  evklid distance: 0.00001248\n",
      "237  evklid distance: 0.00001219\n",
      "238  evklid distance: 0.00001190\n",
      "239  evklid distance: 0.00001162\n",
      "240  evklid distance: 0.00001135\n",
      "241  evklid distance: 0.00001109\n",
      "242  evklid distance: 0.00001083\n",
      "243  evklid distance: 0.00001057\n",
      "244  evklid distance: 0.00001033\n",
      "245  evklid distance: 0.00001008\n",
      "246  evklid distance: 0.00000985\n",
      "Обычная регрессия C=0 L1:  185.32187826272036\n",
      "0  evklid distance: 0.00021070\n",
      "1  evklid distance: 0.00000000\n",
      "L2-регуляризованной (с коэффициентом регуляризации 10) L2:  142.37305649053684\n",
      "AUS-ROC L1:  0.926\n",
      "AUS-ROC L2:  0.138\n"
     ]
    }
   ],
   "source": [
    "\n",
    "w1 = 0   # Вес 1\n",
    "w2 = 0   # Вес 2\n",
    "L1  = 0  #\n",
    "len_y = len(y)\n",
    "    \n",
    "def gradient_spysk(w1, w2, c):\n",
    "    k = 0.1 # Длинна Шага\n",
    "    L = 0   #\n",
    "    i = 0\n",
    "    while (i < len_y):\n",
    "        summa = 1 - 1 / (1 + np.exp( -y[i] * (w1 * X[1][i] + w2 * X[2][i]) ))\n",
    "        w1 = w1 + k / len_y * y[i]*X[1][i] * summa - k*c*w1\n",
    "        w2 = w2 + k / len_y * y[i]*X[2][i] * summa - k*c*w2\n",
    "        L = L + (np.log(1 + np.exp(w1*X[1][i] + w2*X[2][i])))\n",
    "        i = i + 1\n",
    "    return L, w1, w2\n",
    "    \n",
    "def logistic_reqression(c):\n",
    "    L    = 0.0\n",
    "    w1   = 0.0 # Вес 1\n",
    "    w2   = 0.0 # Вес 2\n",
    "    w1_p = 0.0 # Вес old\n",
    "    w2_p = 0.0 # Вес old\n",
    "    i = 0\n",
    "    # Рекомендуется ограничить сверху число итераций десятью тысячами.\n",
    "    while ( i < 10000 ):\n",
    "        L, w1, w2 = gradient_spysk(w1, w2, c)\n",
    "        # евклидово расстояние между векторами\n",
    "        evk = np.sqrt( pow((w1_p - w1),2) + pow((w2_p - w2),2) )\n",
    "        print ( i, ' evklid distance: %0.8f' % evk )\n",
    "        if ( evk < 0.00001 ):\n",
    "            break\n",
    "        w1_p = np.copy(w1)\n",
    "        w2_p = np.copy(w2)\n",
    "        i = i + 1\n",
    "    return L, w1, w2\n",
    "\n",
    "def auc_roc(w1, w2):\n",
    "    i = 0\n",
    "    a = []\n",
    "    while (i < len_y):\n",
    "        a.append( 1 / (1 + np.exp( - w1*X[1][i] - w2*X[2][i])) )\n",
    "        i = i + 1\n",
    "    return roc_auc_score(y, a)\n",
    "\n",
    "\n",
    "L1, L1_w1, L1_w2 = logistic_reqression(0)\n",
    "print ('Обычная регрессия C=0 L1: ', L1);\n",
    "\n",
    "L2, L2_w1, L2_w2 = logistic_reqression(10)\n",
    "print ('L2-регуляризованной (с коэффициентом регуляризации 10) L2: ', L2);\n",
    "\n",
    "L1_rez = auc_roc(L1_w1, L1_w2)\n",
    "print ('AUS-ROC L1: ', round(L1_rez, 3))\n",
    "\n",
    "L2_rez = auc_roc(L2_w1, L2_w2)\n",
    "print ('AUS-ROC L2: ', round(L2_rez, 3))"
   ]
  },
  {
   "cell_type": "code",
   "execution_count": null,
   "metadata": {},
   "outputs": [],
   "source": []
  },
  {
   "cell_type": "code",
   "execution_count": 4,
   "metadata": {},
   "outputs": [],
   "source": [
    "from sklearn.feature_extraction.text import TfidfVectorizer\n",
    "from sklearn.model_selection import KFold, GridSearchCV\n",
    "cv = KFold(n_splits=5, shuffle=True, random_state=241)"
   ]
  },
  {
   "cell_type": "code",
   "execution_count": 5,
   "metadata": {},
   "outputs": [],
   "source": [
    "vectorizer = TfidfVectorizer()\n",
    "X = vectorizer.fit_transform(X)"
   ]
  },
  {
   "cell_type": "code",
   "execution_count": 6,
   "metadata": {},
   "outputs": [
    {
     "name": "stdout",
     "output_type": "stream",
     "text": [
      "{'C': 1.0}\n",
      "Wall time: 4min 13s\n"
     ]
    }
   ],
   "source": [
    "%%time\n",
    "clf = SVC(kernel='linear', random_state=241)\n",
    "cv = KFold(n_splits=5, shuffle=True, random_state=241)\n",
    "grid = {'C': np.power(10.0, np.arange(-5, 6))}\n",
    "gs = GridSearchCV(clf, grid, scoring='accuracy', cv=cv)\n",
    "gs.fit(X, y)\n",
    "print(gs.best_params_)"
   ]
  },
  {
   "cell_type": "code",
   "execution_count": 9,
   "metadata": {},
   "outputs": [
    {
     "data": {
      "text/plain": [
       "SVC(C=1, cache_size=200, class_weight=None, coef0=0.0,\n",
       "  decision_function_shape='ovr', degree=3, gamma='auto_deprecated',\n",
       "  kernel='linear', max_iter=-1, probability=False, random_state=241,\n",
       "  shrinking=True, tol=0.001, verbose=False)"
      ]
     },
     "execution_count": 9,
     "metadata": {},
     "output_type": "execute_result"
    }
   ],
   "source": [
    "clf = SVC(C = 1, kernel='linear', random_state=241)\n",
    "clf.fit(X, y)\n"
   ]
  },
  {
   "cell_type": "code",
   "execution_count": 17,
   "metadata": {},
   "outputs": [
    {
     "data": {
      "text/plain": [
       "(28382,)"
      ]
     },
     "execution_count": 17,
     "metadata": {},
     "output_type": "execute_result"
    }
   ],
   "source": [
    "alpha = np.argsort(abs(clf.coef_.todense().A1))\n",
    "alpha.shape"
   ]
  },
  {
   "cell_type": "code",
   "execution_count": 15,
   "metadata": {},
   "outputs": [],
   "source": [
    "feature_mapping = vectorizer.get_feature_names()\n",
    "answer = []\n",
    "for element in range(28372, 28382):\n",
    "    answer.append(feature_mapping[alpha[element]])"
   ]
  },
  {
   "cell_type": "code",
   "execution_count": 21,
   "metadata": {},
   "outputs": [
    {
     "data": {
      "text/plain": [
       "['atheism',\n",
       " 'atheists',\n",
       " 'bible',\n",
       " 'god',\n",
       " 'keith',\n",
       " 'moon',\n",
       " 'religion',\n",
       " 'sci',\n",
       " 'sky',\n",
       " 'space']"
      ]
     },
     "execution_count": 21,
     "metadata": {},
     "output_type": "execute_result"
    }
   ],
   "source": [
    "sorted(answer)"
   ]
  },
  {
   "cell_type": "code",
   "execution_count": 22,
   "metadata": {},
   "outputs": [],
   "source": [
    "file_answer = open(r\"C:\\Users\\One\\Git\\coursera_introduction\\week3\\2_1.txt\", \"w\")\n",
    "file_answer.write(repr(sorted(answer)))\n",
    "file_answer.close()"
   ]
  },
  {
   "cell_type": "code",
   "execution_count": null,
   "metadata": {},
   "outputs": [],
   "source": []
  },
  {
   "cell_type": "code",
   "execution_count": null,
   "metadata": {},
   "outputs": [],
   "source": []
  },
  {
   "cell_type": "code",
   "execution_count": null,
   "metadata": {},
   "outputs": [],
   "source": []
  },
  {
   "cell_type": "code",
   "execution_count": 14,
   "metadata": {},
   "outputs": [
    {
     "data": {
      "text/plain": [
       "[28381, 28380, 28379, 28378, 28377, 28376, 28375, 28374, 28373, 28372]"
      ]
     },
     "execution_count": 14,
     "metadata": {},
     "output_type": "execute_result"
    }
   ],
   "source": [
    "#найти Н наибольших знаений\n",
    "import numbers\n",
    "import heapq\n",
    "b = [x for x in alpha if isinstance(x, numbers.Number)]\n",
    "ll = heapq.nlargest(10, b)"
   ]
  }
 ],
 "metadata": {
  "kernelspec": {
   "display_name": "Python 3",
   "language": "python",
   "name": "python3"
  },
  "language_info": {
   "codemirror_mode": {
    "name": "ipython",
    "version": 3
   },
   "file_extension": ".py",
   "mimetype": "text/x-python",
   "name": "python",
   "nbconvert_exporter": "python",
   "pygments_lexer": "ipython3",
   "version": "3.7.3"
  }
 },
 "nbformat": 4,
 "nbformat_minor": 2
}
