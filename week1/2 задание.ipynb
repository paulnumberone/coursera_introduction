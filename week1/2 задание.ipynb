{
 "cells": [
  {
   "cell_type": "code",
   "execution_count": 1,
   "metadata": {},
   "outputs": [],
   "source": [
    "import pandas as pd\n",
    "df = pd.read_csv(r'C:\\Users\\One\\Git\\coursera_introduction\\week1\\titanic_train.csv')"
   ]
  },
  {
   "cell_type": "code",
   "execution_count": 2,
   "metadata": {},
   "outputs": [
    {
     "data": {
      "text/plain": [
       "<bound method NDFrame.head of      Pclass      Fare   Age     Sex  Survived\n",
       "0         3    7.2500  22.0    male         0\n",
       "1         1   71.2833  38.0  female         1\n",
       "2         3    7.9250  26.0  female         1\n",
       "3         1   53.1000  35.0  female         1\n",
       "4         3    8.0500  35.0    male         0\n",
       "5         3    8.4583   NaN    male         0\n",
       "6         1   51.8625  54.0    male         0\n",
       "7         3   21.0750   2.0    male         0\n",
       "8         3   11.1333  27.0  female         1\n",
       "9         2   30.0708  14.0  female         1\n",
       "10        3   16.7000   4.0  female         1\n",
       "11        1   26.5500  58.0  female         1\n",
       "12        3    8.0500  20.0    male         0\n",
       "13        3   31.2750  39.0    male         0\n",
       "14        3    7.8542  14.0  female         0\n",
       "15        2   16.0000  55.0  female         1\n",
       "16        3   29.1250   2.0    male         0\n",
       "17        2   13.0000   NaN    male         1\n",
       "18        3   18.0000  31.0  female         0\n",
       "19        3    7.2250   NaN  female         1\n",
       "20        2   26.0000  35.0    male         0\n",
       "21        2   13.0000  34.0    male         1\n",
       "22        3    8.0292  15.0  female         1\n",
       "23        1   35.5000  28.0    male         1\n",
       "24        3   21.0750   8.0  female         0\n",
       "25        3   31.3875  38.0  female         1\n",
       "26        3    7.2250   NaN    male         0\n",
       "27        1  263.0000  19.0    male         0\n",
       "28        3    7.8792   NaN  female         1\n",
       "29        3    7.8958   NaN    male         0\n",
       "..      ...       ...   ...     ...       ...\n",
       "861       2   11.5000  21.0    male         0\n",
       "862       1   25.9292  48.0  female         1\n",
       "863       3   69.5500   NaN  female         0\n",
       "864       2   13.0000  24.0    male         0\n",
       "865       2   13.0000  42.0  female         1\n",
       "866       2   13.8583  27.0  female         1\n",
       "867       1   50.4958  31.0    male         0\n",
       "868       3    9.5000   NaN    male         0\n",
       "869       3   11.1333   4.0    male         1\n",
       "870       3    7.8958  26.0    male         0\n",
       "871       1   52.5542  47.0  female         1\n",
       "872       1    5.0000  33.0    male         0\n",
       "873       3    9.0000  47.0    male         0\n",
       "874       2   24.0000  28.0  female         1\n",
       "875       3    7.2250  15.0  female         1\n",
       "876       3    9.8458  20.0    male         0\n",
       "877       3    7.8958  19.0    male         0\n",
       "878       3    7.8958   NaN    male         0\n",
       "879       1   83.1583  56.0  female         1\n",
       "880       2   26.0000  25.0  female         1\n",
       "881       3    7.8958  33.0    male         0\n",
       "882       3   10.5167  22.0  female         0\n",
       "883       2   10.5000  28.0    male         0\n",
       "884       3    7.0500  25.0    male         0\n",
       "885       3   29.1250  39.0  female         0\n",
       "886       2   13.0000  27.0    male         0\n",
       "887       1   30.0000  19.0  female         1\n",
       "888       3   23.4500   NaN  female         0\n",
       "889       1   30.0000  26.0    male         1\n",
       "890       3    7.7500  32.0    male         0\n",
       "\n",
       "[891 rows x 5 columns]>"
      ]
     },
     "execution_count": 2,
     "metadata": {},
     "output_type": "execute_result"
    }
   ],
   "source": [
    "df = df[['Pclass', 'Fare', 'Age', 'Sex', 'Survived']]\n",
    "df.head"
   ]
  },
  {
   "cell_type": "code",
   "execution_count": 5,
   "metadata": {},
   "outputs": [],
   "source": [
    "from sklearn.preprocessing import LabelEncoder\n",
    "label_encoder = LabelEncoder()\n",
    "df['Sex'] = pd.Series(label_encoder.fit_transform(df['Sex']))\n",
    "df = df.dropna()"
   ]
  },
  {
   "cell_type": "code",
   "execution_count": 6,
   "metadata": {},
   "outputs": [
    {
     "data": {
      "text/plain": [
       "DecisionTreeClassifier(class_weight=None, criterion='gini', max_depth=None,\n",
       "            max_features=None, max_leaf_nodes=None,\n",
       "            min_impurity_decrease=0.0, min_impurity_split=None,\n",
       "            min_samples_leaf=1, min_samples_split=2,\n",
       "            min_weight_fraction_leaf=0.0, presort=False, random_state=241,\n",
       "            splitter='best')"
      ]
     },
     "execution_count": 6,
     "metadata": {},
     "output_type": "execute_result"
    }
   ],
   "source": [
    "import numpy as np\n",
    "from sklearn.tree import DecisionTreeClassifier\n",
    "X = df[['Pclass', 'Fare', 'Age', 'Sex']]\n",
    "y = df[['Survived']]\n",
    "clf = DecisionTreeClassifier(random_state=241)\n",
    "clf.fit(X, y)"
   ]
  },
  {
   "cell_type": "code",
   "execution_count": 8,
   "metadata": {},
   "outputs": [
    {
     "data": {
      "text/plain": [
       "array([0.14000522, 0.30343647, 0.2560461 , 0.30051221])"
      ]
     },
     "execution_count": 8,
     "metadata": {},
     "output_type": "execute_result"
    }
   ],
   "source": [
    "clf.feature_importances_"
   ]
  },
  {
   "cell_type": "code",
   "execution_count": null,
   "metadata": {},
   "outputs": [],
   "source": []
  }
 ],
 "metadata": {
  "kernelspec": {
   "display_name": "Python 3",
   "language": "python",
   "name": "python3"
  },
  "language_info": {
   "codemirror_mode": {
    "name": "ipython",
    "version": 3
   },
   "file_extension": ".py",
   "mimetype": "text/x-python",
   "name": "python",
   "nbconvert_exporter": "python",
   "pygments_lexer": "ipython3",
   "version": "3.7.3"
  }
 },
 "nbformat": 4,
 "nbformat_minor": 2
}
