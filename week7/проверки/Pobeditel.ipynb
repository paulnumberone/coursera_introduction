{
 "cells": [
  {
   "cell_type": "code",
   "execution_count": 1,
   "metadata": {},
   "outputs": [],
   "source": [
    "import datetime\n",
    "import numpy as np\n",
    "import pandas as pd\n",
    "\n",
    "from sklearn.model_selection import KFold, cross_val_score\n",
    "from sklearn.preprocessing import StandardScaler\n",
    "from sklearn.ensemble import GradientBoostingClassifier\n",
    "from sklearn.linear_model import LogisticRegression\n",
    "\n",
    "%matplotlib inline"
   ]
  },
  {
   "cell_type": "code",
   "execution_count": 5,
   "metadata": {},
   "outputs": [
    {
     "data": {
      "text/html": [
       "<div>\n",
       "<style scoped>\n",
       "    .dataframe tbody tr th:only-of-type {\n",
       "        vertical-align: middle;\n",
       "    }\n",
       "\n",
       "    .dataframe tbody tr th {\n",
       "        vertical-align: top;\n",
       "    }\n",
       "\n",
       "    .dataframe thead th {\n",
       "        text-align: right;\n",
       "    }\n",
       "</style>\n",
       "<table border=\"1\" class=\"dataframe\">\n",
       "  <thead>\n",
       "    <tr style=\"text-align: right;\">\n",
       "      <th></th>\n",
       "      <th>start_time</th>\n",
       "      <th>lobby_type</th>\n",
       "      <th>r1_hero</th>\n",
       "      <th>r1_level</th>\n",
       "      <th>r1_xp</th>\n",
       "      <th>r1_gold</th>\n",
       "      <th>r1_lh</th>\n",
       "      <th>r1_kills</th>\n",
       "      <th>r1_deaths</th>\n",
       "      <th>r1_items</th>\n",
       "      <th>...</th>\n",
       "      <th>dire_boots_count</th>\n",
       "      <th>dire_ward_observer_count</th>\n",
       "      <th>dire_ward_sentry_count</th>\n",
       "      <th>dire_first_ward_time</th>\n",
       "      <th>duration</th>\n",
       "      <th>radiant_win</th>\n",
       "      <th>tower_status_radiant</th>\n",
       "      <th>tower_status_dire</th>\n",
       "      <th>barracks_status_radiant</th>\n",
       "      <th>barracks_status_dire</th>\n",
       "    </tr>\n",
       "    <tr>\n",
       "      <th>match_id</th>\n",
       "      <th></th>\n",
       "      <th></th>\n",
       "      <th></th>\n",
       "      <th></th>\n",
       "      <th></th>\n",
       "      <th></th>\n",
       "      <th></th>\n",
       "      <th></th>\n",
       "      <th></th>\n",
       "      <th></th>\n",
       "      <th></th>\n",
       "      <th></th>\n",
       "      <th></th>\n",
       "      <th></th>\n",
       "      <th></th>\n",
       "      <th></th>\n",
       "      <th></th>\n",
       "      <th></th>\n",
       "      <th></th>\n",
       "      <th></th>\n",
       "      <th></th>\n",
       "    </tr>\n",
       "  </thead>\n",
       "  <tbody>\n",
       "    <tr>\n",
       "      <th>0</th>\n",
       "      <td>1430198770</td>\n",
       "      <td>7</td>\n",
       "      <td>11</td>\n",
       "      <td>5</td>\n",
       "      <td>2098</td>\n",
       "      <td>1489</td>\n",
       "      <td>20</td>\n",
       "      <td>0</td>\n",
       "      <td>0</td>\n",
       "      <td>7</td>\n",
       "      <td>...</td>\n",
       "      <td>4</td>\n",
       "      <td>2</td>\n",
       "      <td>2</td>\n",
       "      <td>-52.0</td>\n",
       "      <td>2874</td>\n",
       "      <td>1</td>\n",
       "      <td>1796</td>\n",
       "      <td>0</td>\n",
       "      <td>51</td>\n",
       "      <td>0</td>\n",
       "    </tr>\n",
       "    <tr>\n",
       "      <th>1</th>\n",
       "      <td>1430220345</td>\n",
       "      <td>0</td>\n",
       "      <td>42</td>\n",
       "      <td>4</td>\n",
       "      <td>1188</td>\n",
       "      <td>1033</td>\n",
       "      <td>9</td>\n",
       "      <td>0</td>\n",
       "      <td>1</td>\n",
       "      <td>12</td>\n",
       "      <td>...</td>\n",
       "      <td>4</td>\n",
       "      <td>3</td>\n",
       "      <td>1</td>\n",
       "      <td>-5.0</td>\n",
       "      <td>2463</td>\n",
       "      <td>1</td>\n",
       "      <td>1974</td>\n",
       "      <td>0</td>\n",
       "      <td>63</td>\n",
       "      <td>1</td>\n",
       "    </tr>\n",
       "    <tr>\n",
       "      <th>2</th>\n",
       "      <td>1430227081</td>\n",
       "      <td>7</td>\n",
       "      <td>33</td>\n",
       "      <td>4</td>\n",
       "      <td>1319</td>\n",
       "      <td>1270</td>\n",
       "      <td>22</td>\n",
       "      <td>0</td>\n",
       "      <td>0</td>\n",
       "      <td>12</td>\n",
       "      <td>...</td>\n",
       "      <td>4</td>\n",
       "      <td>3</td>\n",
       "      <td>1</td>\n",
       "      <td>13.0</td>\n",
       "      <td>2130</td>\n",
       "      <td>0</td>\n",
       "      <td>0</td>\n",
       "      <td>1830</td>\n",
       "      <td>0</td>\n",
       "      <td>63</td>\n",
       "    </tr>\n",
       "    <tr>\n",
       "      <th>3</th>\n",
       "      <td>1430263531</td>\n",
       "      <td>1</td>\n",
       "      <td>29</td>\n",
       "      <td>4</td>\n",
       "      <td>1779</td>\n",
       "      <td>1056</td>\n",
       "      <td>14</td>\n",
       "      <td>0</td>\n",
       "      <td>0</td>\n",
       "      <td>5</td>\n",
       "      <td>...</td>\n",
       "      <td>4</td>\n",
       "      <td>2</td>\n",
       "      <td>0</td>\n",
       "      <td>27.0</td>\n",
       "      <td>1459</td>\n",
       "      <td>0</td>\n",
       "      <td>1920</td>\n",
       "      <td>2047</td>\n",
       "      <td>50</td>\n",
       "      <td>63</td>\n",
       "    </tr>\n",
       "    <tr>\n",
       "      <th>4</th>\n",
       "      <td>1430282290</td>\n",
       "      <td>7</td>\n",
       "      <td>13</td>\n",
       "      <td>4</td>\n",
       "      <td>1431</td>\n",
       "      <td>1090</td>\n",
       "      <td>8</td>\n",
       "      <td>1</td>\n",
       "      <td>0</td>\n",
       "      <td>8</td>\n",
       "      <td>...</td>\n",
       "      <td>3</td>\n",
       "      <td>3</td>\n",
       "      <td>0</td>\n",
       "      <td>-16.0</td>\n",
       "      <td>2449</td>\n",
       "      <td>0</td>\n",
       "      <td>4</td>\n",
       "      <td>1974</td>\n",
       "      <td>3</td>\n",
       "      <td>63</td>\n",
       "    </tr>\n",
       "  </tbody>\n",
       "</table>\n",
       "<p>5 rows × 108 columns</p>\n",
       "</div>"
      ],
      "text/plain": [
       "          start_time  lobby_type  r1_hero  r1_level  r1_xp  r1_gold  r1_lh  \\\n",
       "match_id                                                                     \n",
       "0         1430198770           7       11         5   2098     1489     20   \n",
       "1         1430220345           0       42         4   1188     1033      9   \n",
       "2         1430227081           7       33         4   1319     1270     22   \n",
       "3         1430263531           1       29         4   1779     1056     14   \n",
       "4         1430282290           7       13         4   1431     1090      8   \n",
       "\n",
       "          r1_kills  r1_deaths  r1_items  ...  dire_boots_count  \\\n",
       "match_id                                 ...                     \n",
       "0                0          0         7  ...                 4   \n",
       "1                0          1        12  ...                 4   \n",
       "2                0          0        12  ...                 4   \n",
       "3                0          0         5  ...                 4   \n",
       "4                1          0         8  ...                 3   \n",
       "\n",
       "          dire_ward_observer_count  dire_ward_sentry_count  \\\n",
       "match_id                                                     \n",
       "0                                2                       2   \n",
       "1                                3                       1   \n",
       "2                                3                       1   \n",
       "3                                2                       0   \n",
       "4                                3                       0   \n",
       "\n",
       "          dire_first_ward_time  duration  radiant_win  tower_status_radiant  \\\n",
       "match_id                                                                      \n",
       "0                        -52.0      2874            1                  1796   \n",
       "1                         -5.0      2463            1                  1974   \n",
       "2                         13.0      2130            0                     0   \n",
       "3                         27.0      1459            0                  1920   \n",
       "4                        -16.0      2449            0                     4   \n",
       "\n",
       "          tower_status_dire  barracks_status_radiant  barracks_status_dire  \n",
       "match_id                                                                    \n",
       "0                         0                       51                     0  \n",
       "1                         0                       63                     1  \n",
       "2                      1830                        0                    63  \n",
       "3                      2047                       50                    63  \n",
       "4                      1974                        3                    63  \n",
       "\n",
       "[5 rows x 108 columns]"
      ]
     },
     "execution_count": 5,
     "metadata": {},
     "output_type": "execute_result"
    }
   ],
   "source": [
    "#Подход 1: градиентный бустинг \"в лоб\"\n",
    "#1. Считайте таблицу с признаками из файла features.csv\n",
    "#Удалите признаки, связанные с итогами матча (они помечены в описании данных как отсутствующие в тестовой выборке).\n",
    "\n",
    "train = pd.read_csv('C:/Users/Юлия Витковская/Desktop/features.csv', index_col=\"match_id\")\n",
    "train.head()"
   ]
  },
  {
   "cell_type": "code",
   "execution_count": 6,
   "metadata": {},
   "outputs": [],
   "source": [
    "train.drop([\n",
    "    \"duration\",\n",
    "    \"tower_status_radiant\",\n",
    "    \"tower_status_dire\",\n",
    "    \"barracks_status_radiant\",\n",
    "    \"barracks_status_dire\",\n",
    "], axis=1, inplace=True)"
   ]
  },
  {
   "cell_type": "code",
   "execution_count": 7,
   "metadata": {},
   "outputs": [
    {
     "data": {
      "text/plain": [
       "first_blood_player2            0.452402\n",
       "radiant_flying_courier_time    0.282619\n",
       "dire_flying_courier_time       0.268415\n",
       "first_blood_player1            0.201100\n",
       "first_blood_team               0.201100\n",
       "first_blood_time               0.201100\n",
       "dire_bottle_time               0.166029\n",
       "radiant_bottle_time            0.161380\n",
       "radiant_first_ward_time        0.018883\n",
       "dire_first_ward_time           0.018780\n",
       "radiant_courier_time           0.007117\n",
       "dire_courier_time              0.006953\n",
       "dtype: float64"
      ]
     },
     "execution_count": 7,
     "metadata": {},
     "output_type": "execute_result"
    }
   ],
   "source": [
    "#2. Проверьте выборку на наличие пропусков с помощью функции count(),\n",
    "#которая для каждого столбца показывает число заполненных значений.\n",
    "#Много ли пропусков в данных? Запишите названия признаков, имеющих пропуски,\n",
    "#и попробуйте для любых двух из них дать обоснование, почему их значения могут быть пропущены.\n",
    "\n",
    "count_na = len(train) - train.count()\n",
    "count_na[count_na > 0].sort_values(ascending=False) / len(train)"
   ]
  },
  {
   "cell_type": "code",
   "execution_count": 8,
   "metadata": {},
   "outputs": [],
   "source": [
    "#Обоснование пропусков:\n",
    "#first_blood_player2 (второй игрок, причастный к событию) - первое убийство может быть совершено одним игроком, это достаточно частое явление и происходит в 45% случаев.\n",
    "#radiant_flying_courier_time (время приобретения предмета \"flying_courier\") - в 28% случаев команда не покупает \"flying_courier\" в первые 5 минут игры.\n",
    "#dire_flying_courier_time - аналогично radiant_flying_courier_time, процент почти тот же (26%).\n",
    "#first_blood_time (игровое время первой крови) - в 20% случаев первой крови нет в первые 5 минут игры.\n",
    "#first_blood_team (команда, совершившая первую кровь) - аналогично first_blood_time, процент совпадает (20%).\n",
    "#first_blood_player1 (игрок, причастный к событию) - аналогично first_blood_time, процент совпадает (20%).\n",
    "#dire_bottle_time (время первого приобретения командой предмета \"bottle\") - в 16% случаев команда не приобретает предмет \"bottle\" в первые 5 минут игры.\n",
    "#radiant_bottle_time - аналогично dire_bottle_time, процент почти тот же (16%).\n",
    "#radiant_first_ward_time (время установки командой первого \"наблюдателя\") - очень редкое явление, в 1% случаев команда не ставит \"наблюдателя\" в первые 5 минут игры.\n",
    "#dire_first_ward_time - аналогично radiant_first_ward_time, процент почти тот же (1%).\n",
    "#radiant_courier_time (время приобретения предмета \"courier\") - самое редкое явление, в 0.5% случаев команда не приобретает предмет \"courier\" в первые 5 минут игры.\n",
    "#dire_courier_time - аналогично radiant_courier_time, процент почти тот же (0.5%)."
   ]
  },
  {
   "cell_type": "code",
   "execution_count": 9,
   "metadata": {},
   "outputs": [],
   "source": [
    "#3. Замените пропуски на нули с помощью функции fillna().\n",
    "train.fillna(0, inplace=True)"
   ]
  },
  {
   "cell_type": "code",
   "execution_count": 10,
   "metadata": {},
   "outputs": [],
   "source": [
    "#4. Какой столбец содержит целевую переменную?\n",
    "#Запишите его название.\n",
    "X_train = train.drop(\"radiant_win\", axis=1)\n",
    "y_train = train[\"radiant_win\"]"
   ]
  },
  {
   "cell_type": "code",
   "execution_count": 11,
   "metadata": {},
   "outputs": [],
   "source": [
    "#5. Забудем, что в выборке есть категориальные признаки, и попробуем обучить градиентный бустинг над деревьями\n",
    "#на имеющейся матрице \"объекты-признаки\".\n",
    "cv = KFold(n_splits=5, shuffle=True, random_state=42)"
   ]
  },
  {
   "cell_type": "code",
   "execution_count": 1,
   "metadata": {},
   "outputs": [
    {
     "ename": "NameError",
     "evalue": "name 'pd' is not defined",
     "output_type": "error",
     "traceback": [
      "\u001b[1;31m---------------------------------------------------------------------------\u001b[0m",
      "\u001b[1;31mNameError\u001b[0m                                 Traceback (most recent call last)",
      "\u001b[1;32m<ipython-input-1-2ffa6e719e64>\u001b[0m in \u001b[0;36m<module>\u001b[1;34m\u001b[0m\n\u001b[1;32m----> 1\u001b[1;33m \u001b[1;32mdef\u001b[0m \u001b[0mscore_gb\u001b[0m\u001b[1;33m(\u001b[0m\u001b[0mX\u001b[0m\u001b[1;33m:\u001b[0m \u001b[0mpd\u001b[0m\u001b[1;33m.\u001b[0m\u001b[0mDataFrame\u001b[0m\u001b[1;33m,\u001b[0m \u001b[0my\u001b[0m\u001b[1;33m:\u001b[0m \u001b[0mpd\u001b[0m\u001b[1;33m.\u001b[0m\u001b[0mSeries\u001b[0m\u001b[1;33m)\u001b[0m \u001b[1;33m->\u001b[0m \u001b[0mpd\u001b[0m\u001b[1;33m.\u001b[0m\u001b[0mSeries\u001b[0m\u001b[1;33m:\u001b[0m\u001b[1;33m\u001b[0m\u001b[1;33m\u001b[0m\u001b[0m\n\u001b[0m\u001b[0;32m      2\u001b[0m     \u001b[0mscores\u001b[0m \u001b[1;33m=\u001b[0m \u001b[1;33m{\u001b[0m\u001b[1;33m}\u001b[0m\u001b[1;33m\u001b[0m\u001b[1;33m\u001b[0m\u001b[0m\n\u001b[0;32m      3\u001b[0m \u001b[1;33m\u001b[0m\u001b[0m\n\u001b[0;32m      4\u001b[0m     \u001b[1;32mfor\u001b[0m \u001b[0mn_estimators\u001b[0m \u001b[1;32min\u001b[0m \u001b[1;33m[\u001b[0m\u001b[1;36m10\u001b[0m\u001b[1;33m,\u001b[0m \u001b[1;36m20\u001b[0m\u001b[1;33m,\u001b[0m \u001b[1;36m30\u001b[0m\u001b[1;33m,\u001b[0m \u001b[1;36m50\u001b[0m\u001b[1;33m,\u001b[0m \u001b[1;36m100\u001b[0m\u001b[1;33m,\u001b[0m \u001b[1;36m250\u001b[0m\u001b[1;33m]\u001b[0m\u001b[1;33m:\u001b[0m\u001b[1;33m\u001b[0m\u001b[1;33m\u001b[0m\u001b[0m\n\u001b[0;32m      5\u001b[0m         \u001b[0mprint\u001b[0m\u001b[1;33m(\u001b[0m\u001b[1;34mf\"n_estimators={n_estimators}\"\u001b[0m\u001b[1;33m)\u001b[0m\u001b[1;33m\u001b[0m\u001b[1;33m\u001b[0m\u001b[0m\n",
      "\u001b[1;31mNameError\u001b[0m: name 'pd' is not defined"
     ]
    }
   ],
   "source": [
    "def score_gb(X: pd.DataFrame, y: pd.Series) -> pd.Series:\n",
    "    scores = {}\n",
    "\n",
    "    for n_estimators in [10, 20, 30, 50, 100, 250]:\n",
    "        print(f\"n_estimators={n_estimators}\")\n",
    "        model = GradientBoostingClassifier(n_estimators=n_estimators, random_state=42)\n",
    "\n",
    "        start_time = datetime.datetime.now()\n",
    "        score = cross_val_score(model, X, y, cv=cv, scoring=\"roc_auc\", n_jobs=-1).mean()\n",
    "        print(f\"Score: {score:.3f}\")\n",
    "        print(f\"Time elapsed: {datetime.datetime.now() - start_time}\")\n",
    "\n",
    "        scores[n_estimators] = score\n",
    "        print()\n",
    "        \n",
    "    return pd.Series(scores)"
   ]
  },
  {
   "cell_type": "code",
   "execution_count": 13,
   "metadata": {},
   "outputs": [
    {
     "name": "stdout",
     "output_type": "stream",
     "text": [
      "n_estimators=10\n",
      "Score: 0.665\n",
      "Time elapsed: 0:00:47.665637\n",
      "\n",
      "n_estimators=20\n",
      "Score: 0.682\n",
      "Time elapsed: 0:01:06.960723\n",
      "\n",
      "n_estimators=30\n",
      "Score: 0.690\n",
      "Time elapsed: 0:01:41.892038\n",
      "\n",
      "n_estimators=50\n",
      "Score: 0.697\n",
      "Time elapsed: 0:02:47.403795\n",
      "\n",
      "n_estimators=100\n",
      "Score: 0.706\n",
      "Time elapsed: 0:05:42.928252\n",
      "\n",
      "n_estimators=250\n",
      "Score: 0.716\n",
      "Time elapsed: 0:17:37.164821\n",
      "\n"
     ]
    },
    {
     "data": {
      "text/plain": [
       "<matplotlib.axes._subplots.AxesSubplot at 0xf04647b748>"
      ]
     },
     "execution_count": 13,
     "metadata": {},
     "output_type": "execute_result"
    },
    {
     "data": {
      "image/png": "[encoded data removed]",
      "text/plain": [
       "<Figure size 432x288 with 1 Axes>"
      ]
     },
     "metadata": {
      "needs_background": "light"
     },
     "output_type": "display_data"
    }
   ],
   "source": [
    "scores = score_gb(X_train, y_train)\n",
    "scores.plot()"
   ]
  },
  {
   "cell_type": "code",
   "execution_count": 14,
   "metadata": {},
   "outputs": [],
   "source": [
    "#Кросс-валидация для градиентного бустинга с 30 деревьями заняла 0:00:45. Показатель метрики качества AUC-ROC в таком случае равен 0.69.\n",
    "#Увеличение количества деревьев также увеличивает показатель метрики AUC-ROC, приближая его к 0.72.\n",
    "#Для достижения большего качества имеет смысл использовать более 30 деревьев.\n",
    "#Для ускорения обучения можно использовать не всю выборку, а некоторое ее подмножество — например, половину объектов.\n",
    "#Также можно уменьшить глубину деревьев (max_depth)."
   ]
  },
  {
   "cell_type": "code",
   "execution_count": 15,
   "metadata": {},
   "outputs": [],
   "source": [
    "#Подход 2: логистическая регрессия\n",
    "#1. Оцените качество логистической регрессии (sklearn.linear_model.LogisticRegression с L2-регуляризацией)\n",
    "#с помощью кросс-валидации по той же схеме, которая использовалась для градиентного бустинга.\n",
    "scaler = StandardScaler()\n",
    "X_train = pd.DataFrame(scaler.fit_transform(X_train), index=X_train.index, columns=X_train.columns)"
   ]
  },
  {
   "cell_type": "code",
   "execution_count": 16,
   "metadata": {},
   "outputs": [],
   "source": [
    "def score_lr(X: pd.DataFrame, y: pd.Series) -> pd.Series:\n",
    "    scores = {}\n",
    "\n",
    "    for i in range(-5, 6):\n",
    "        C = 10.0 ** i\n",
    "\n",
    "        print(f\"C={C}\")\n",
    "        model = LogisticRegression(C=C, random_state=42)\n",
    "\n",
    "        start_time = datetime.datetime.now()\n",
    "        score = cross_val_score(model, X, y, cv=cv, scoring=\"roc_auc\", n_jobs=-1).mean()\n",
    "        print(f\"Score: {score:.3f}\")\n",
    "        print(f\"Time elapsed: {datetime.datetime.now() - start_time}\")\n",
    "\n",
    "        scores[i] = score\n",
    "        print()\n",
    "\n",
    "    return pd.Series(scores)"
   ]
  },
  {
   "cell_type": "code",
   "execution_count": 17,
   "metadata": {},
   "outputs": [
    {
     "name": "stdout",
     "output_type": "stream",
     "text": [
      "C=1e-05\n",
      "Score: 0.695\n",
      "Time elapsed: 0:02:16.494185\n",
      "\n",
      "C=0.0001\n",
      "Score: 0.711\n",
      "Time elapsed: 0:00:06.632093\n",
      "\n",
      "C=0.001\n",
      "Score: 0.716\n",
      "Time elapsed: 0:00:10.539427\n",
      "\n",
      "C=0.01\n",
      "Score: 0.717\n",
      "Time elapsed: 0:00:12.275331\n",
      "\n",
      "C=0.1\n",
      "Score: 0.717\n",
      "Time elapsed: 0:00:14.481870\n",
      "\n",
      "C=1.0\n",
      "Score: 0.717\n",
      "Time elapsed: 0:00:17.164154\n",
      "\n",
      "C=10.0\n",
      "Score: 0.717\n",
      "Time elapsed: 0:00:14.555709\n",
      "\n",
      "C=100.0\n",
      "Score: 0.717\n",
      "Time elapsed: 0:00:16.430988\n",
      "\n",
      "C=1000.0\n",
      "Score: 0.717\n",
      "Time elapsed: 0:00:14.190789\n",
      "\n",
      "C=10000.0\n",
      "Score: 0.717\n",
      "Time elapsed: 0:00:15.820873\n",
      "\n",
      "C=100000.0\n",
      "Score: 0.717\n",
      "Time elapsed: 0:00:16.275019\n",
      "\n"
     ]
    },
    {
     "data": {
      "text/plain": [
       "<matplotlib.axes._subplots.AxesSubplot at 0xf046594128>"
      ]
     },
     "execution_count": 17,
     "metadata": {},
     "output_type": "execute_result"
    },
    {
     "data": {
      "image/png": "[encoded data removed]",
      "text/plain": [
       "<Figure size 432x288 with 1 Axes>"
      ]
     },
     "metadata": {
      "needs_background": "light"
     },
     "output_type": "display_data"
    }
   ],
   "source": [
    "scores = score_lr(X_train, y_train)\n",
    "scores.plot()"
   ]
  },
  {
   "cell_type": "code",
   "execution_count": 18,
   "metadata": {},
   "outputs": [],
   "source": [
    "def print_best_lr_score(scores: pd.Series):\n",
    "    best_iteration = scores.sort_values(ascending=False).head(1)\n",
    "    best_C = 10.0 ** best_iteration.index[0]\n",
    "    best_score = best_iteration.values[0]\n",
    "\n",
    "    print(f\"Наилучшее значение показателя AUC-ROC достигается при C = {best_C:.2f} и равно {best_score:.2f}.\")"
   ]
  },
  {
   "cell_type": "code",
   "execution_count": 19,
   "metadata": {},
   "outputs": [
    {
     "name": "stdout",
     "output_type": "stream",
     "text": [
      "Наилучшее значение показателя AUC-ROC достигается при C = 0.01 и равно 0.72.\n"
     ]
    }
   ],
   "source": [
    "print_best_lr_score(scores)"
   ]
  },
  {
   "cell_type": "code",
   "execution_count": 20,
   "metadata": {},
   "outputs": [],
   "source": [
    "#Это сравнимо с градиентным бустингом по 250 деревьям, при этом логистическая регрессия работает заметно быстрее.\n",
    "#Отсутствие разницы с градиентным бустингом может говорить о том, что характер связи между данными фичами и целевой переменной -\n",
    "#линейный. Тогда такая связь хорошо описывается логистической регрессией и более сложные модели не нужны."
   ]
  },
  {
   "cell_type": "code",
   "execution_count": 21,
   "metadata": {},
   "outputs": [],
   "source": [
    "#2. Среди признаков в выборке есть категориальные, которые мы использовали как числовые, что вряд ли является хорошей идеей.\n",
    "hero_columns = [f\"r{i}_hero\" for i in range (1, 6)] + [f\"d{i}_hero\" for i in range (1, 6)]\n",
    "cat_columns = [\"lobby_type\"] + hero_columns\n",
    "X_train.drop(cat_columns, axis=1, inplace=True)"
   ]
  },
  {
   "cell_type": "code",
   "execution_count": 22,
   "metadata": {},
   "outputs": [
    {
     "name": "stdout",
     "output_type": "stream",
     "text": [
      "C=1e-05\n",
      "Score: 0.695\n",
      "Time elapsed: 0:00:04.044779\n",
      "\n",
      "C=0.0001\n",
      "Score: 0.711\n",
      "Time elapsed: 0:00:05.494660\n",
      "\n",
      "C=0.001\n",
      "Score: 0.716\n",
      "Time elapsed: 0:00:08.711355\n",
      "\n",
      "C=0.01\n",
      "Score: 0.717\n",
      "Time elapsed: 0:00:11.855614\n",
      "\n",
      "C=0.1\n",
      "Score: 0.717\n",
      "Time elapsed: 0:00:12.068488\n",
      "\n",
      "C=1.0\n",
      "Score: 0.717\n",
      "Time elapsed: 0:00:13.088205\n",
      "\n",
      "C=10.0\n",
      "Score: 0.717\n",
      "Time elapsed: 0:00:15.603451\n",
      "\n",
      "C=100.0\n",
      "Score: 0.717\n",
      "Time elapsed: 0:00:16.152426\n",
      "\n",
      "C=1000.0\n",
      "Score: 0.717\n",
      "Time elapsed: 0:00:16.953243\n",
      "\n",
      "C=10000.0\n",
      "Score: 0.717\n",
      "Time elapsed: 0:00:12.597356\n",
      "\n",
      "C=100000.0\n",
      "Score: 0.717\n",
      "Time elapsed: 0:00:12.340185\n",
      "\n"
     ]
    },
    {
     "data": {
      "text/plain": [
       "<matplotlib.axes._subplots.AxesSubplot at 0xf0471a10f0>"
      ]
     },
     "execution_count": 22,
     "metadata": {},
     "output_type": "execute_result"
    },
    {
     "data": {
      "image/png": "[encoded data removed]",
      "text/plain": [
       "<Figure size 432x288 with 1 Axes>"
      ]
     },
     "metadata": {
      "needs_background": "light"
     },
     "output_type": "display_data"
    }
   ],
   "source": [
    "scores = score_lr(X_train, y_train)\n",
    "scores.plot()"
   ]
  },
  {
   "cell_type": "code",
   "execution_count": 23,
   "metadata": {},
   "outputs": [
    {
     "name": "stdout",
     "output_type": "stream",
     "text": [
      "Наилучшее значение показателя AUC-ROC достигается при C = 0.01 и равно 0.72.\n"
     ]
    }
   ],
   "source": [
    "print_best_lr_score(scores)"
   ]
  },
  {
   "cell_type": "code",
   "execution_count": 24,
   "metadata": {},
   "outputs": [],
   "source": [
    "#Удаление категориальных признаков не повлияло на качество предсказания.\n",
    "#Получается, что в предыдущей модели эти признаки никак не влияли на результат предсказания, модель смогла распознать этот шум."
   ]
  },
  {
   "cell_type": "code",
   "execution_count": 25,
   "metadata": {},
   "outputs": [
    {
     "name": "stdout",
     "output_type": "stream",
     "text": [
      "Число уникальных героев в train: 108. Максимальный ID героя: 112.\n"
     ]
    }
   ],
   "source": [
    "#3. На предыдущем шаге мы исключили из выборки признаки rM_hero и dM_hero, которые показывают, какие именно герои играли за каждую команду.\n",
    "unique_heroes = np.unique(train[hero_columns].values.ravel())\n",
    "N = max(unique_heroes)\n",
    "print(f\"Число уникальных героев в train: {len(unique_heroes)}. Максимальный ID героя: {N}.\")"
   ]
  },
  {
   "cell_type": "code",
   "execution_count": 26,
   "metadata": {},
   "outputs": [
    {
     "data": {
      "text/html": [
       "<div>\n",
       "<style scoped>\n",
       "    .dataframe tbody tr th:only-of-type {\n",
       "        vertical-align: middle;\n",
       "    }\n",
       "\n",
       "    .dataframe tbody tr th {\n",
       "        vertical-align: top;\n",
       "    }\n",
       "\n",
       "    .dataframe thead th {\n",
       "        text-align: right;\n",
       "    }\n",
       "</style>\n",
       "<table border=\"1\" class=\"dataframe\">\n",
       "  <thead>\n",
       "    <tr style=\"text-align: right;\">\n",
       "      <th></th>\n",
       "      <th>hero_0</th>\n",
       "      <th>hero_1</th>\n",
       "      <th>hero_2</th>\n",
       "      <th>hero_3</th>\n",
       "      <th>hero_4</th>\n",
       "      <th>hero_5</th>\n",
       "      <th>hero_6</th>\n",
       "      <th>hero_7</th>\n",
       "      <th>hero_8</th>\n",
       "      <th>hero_9</th>\n",
       "      <th>...</th>\n",
       "      <th>hero_102</th>\n",
       "      <th>hero_103</th>\n",
       "      <th>hero_104</th>\n",
       "      <th>hero_105</th>\n",
       "      <th>hero_106</th>\n",
       "      <th>hero_107</th>\n",
       "      <th>hero_108</th>\n",
       "      <th>hero_109</th>\n",
       "      <th>hero_110</th>\n",
       "      <th>hero_111</th>\n",
       "    </tr>\n",
       "    <tr>\n",
       "      <th>match_id</th>\n",
       "      <th></th>\n",
       "      <th></th>\n",
       "      <th></th>\n",
       "      <th></th>\n",
       "      <th></th>\n",
       "      <th></th>\n",
       "      <th></th>\n",
       "      <th></th>\n",
       "      <th></th>\n",
       "      <th></th>\n",
       "      <th></th>\n",
       "      <th></th>\n",
       "      <th></th>\n",
       "      <th></th>\n",
       "      <th></th>\n",
       "      <th></th>\n",
       "      <th></th>\n",
       "      <th></th>\n",
       "      <th></th>\n",
       "      <th></th>\n",
       "      <th></th>\n",
       "    </tr>\n",
       "  </thead>\n",
       "  <tbody>\n",
       "    <tr>\n",
       "      <th>0</th>\n",
       "      <td>0.0</td>\n",
       "      <td>0.0</td>\n",
       "      <td>0.0</td>\n",
       "      <td>-1.0</td>\n",
       "      <td>0.0</td>\n",
       "      <td>0.0</td>\n",
       "      <td>0.0</td>\n",
       "      <td>0.0</td>\n",
       "      <td>0.0</td>\n",
       "      <td>0.0</td>\n",
       "      <td>...</td>\n",
       "      <td>0.0</td>\n",
       "      <td>0.0</td>\n",
       "      <td>1.0</td>\n",
       "      <td>0.0</td>\n",
       "      <td>0.0</td>\n",
       "      <td>0.0</td>\n",
       "      <td>0.0</td>\n",
       "      <td>0.0</td>\n",
       "      <td>0.0</td>\n",
       "      <td>0.0</td>\n",
       "    </tr>\n",
       "    <tr>\n",
       "      <th>1</th>\n",
       "      <td>0.0</td>\n",
       "      <td>0.0</td>\n",
       "      <td>0.0</td>\n",
       "      <td>0.0</td>\n",
       "      <td>0.0</td>\n",
       "      <td>0.0</td>\n",
       "      <td>-1.0</td>\n",
       "      <td>0.0</td>\n",
       "      <td>0.0</td>\n",
       "      <td>0.0</td>\n",
       "      <td>...</td>\n",
       "      <td>0.0</td>\n",
       "      <td>0.0</td>\n",
       "      <td>0.0</td>\n",
       "      <td>0.0</td>\n",
       "      <td>0.0</td>\n",
       "      <td>0.0</td>\n",
       "      <td>0.0</td>\n",
       "      <td>0.0</td>\n",
       "      <td>0.0</td>\n",
       "      <td>0.0</td>\n",
       "    </tr>\n",
       "    <tr>\n",
       "      <th>2</th>\n",
       "      <td>0.0</td>\n",
       "      <td>0.0</td>\n",
       "      <td>0.0</td>\n",
       "      <td>1.0</td>\n",
       "      <td>0.0</td>\n",
       "      <td>0.0</td>\n",
       "      <td>0.0</td>\n",
       "      <td>0.0</td>\n",
       "      <td>0.0</td>\n",
       "      <td>0.0</td>\n",
       "      <td>...</td>\n",
       "      <td>0.0</td>\n",
       "      <td>0.0</td>\n",
       "      <td>0.0</td>\n",
       "      <td>0.0</td>\n",
       "      <td>0.0</td>\n",
       "      <td>0.0</td>\n",
       "      <td>0.0</td>\n",
       "      <td>0.0</td>\n",
       "      <td>0.0</td>\n",
       "      <td>0.0</td>\n",
       "    </tr>\n",
       "    <tr>\n",
       "      <th>3</th>\n",
       "      <td>0.0</td>\n",
       "      <td>0.0</td>\n",
       "      <td>0.0</td>\n",
       "      <td>0.0</td>\n",
       "      <td>0.0</td>\n",
       "      <td>0.0</td>\n",
       "      <td>0.0</td>\n",
       "      <td>0.0</td>\n",
       "      <td>0.0</td>\n",
       "      <td>0.0</td>\n",
       "      <td>...</td>\n",
       "      <td>0.0</td>\n",
       "      <td>0.0</td>\n",
       "      <td>0.0</td>\n",
       "      <td>0.0</td>\n",
       "      <td>0.0</td>\n",
       "      <td>0.0</td>\n",
       "      <td>0.0</td>\n",
       "      <td>0.0</td>\n",
       "      <td>0.0</td>\n",
       "      <td>0.0</td>\n",
       "    </tr>\n",
       "    <tr>\n",
       "      <th>4</th>\n",
       "      <td>0.0</td>\n",
       "      <td>0.0</td>\n",
       "      <td>0.0</td>\n",
       "      <td>0.0</td>\n",
       "      <td>0.0</td>\n",
       "      <td>0.0</td>\n",
       "      <td>0.0</td>\n",
       "      <td>-1.0</td>\n",
       "      <td>0.0</td>\n",
       "      <td>0.0</td>\n",
       "      <td>...</td>\n",
       "      <td>0.0</td>\n",
       "      <td>0.0</td>\n",
       "      <td>0.0</td>\n",
       "      <td>0.0</td>\n",
       "      <td>0.0</td>\n",
       "      <td>0.0</td>\n",
       "      <td>0.0</td>\n",
       "      <td>0.0</td>\n",
       "      <td>0.0</td>\n",
       "      <td>0.0</td>\n",
       "    </tr>\n",
       "  </tbody>\n",
       "</table>\n",
       "<p>5 rows × 112 columns</p>\n",
       "</div>"
      ],
      "text/plain": [
       "          hero_0  hero_1  hero_2  hero_3  hero_4  hero_5  hero_6  hero_7  \\\n",
       "match_id                                                                   \n",
       "0            0.0     0.0     0.0    -1.0     0.0     0.0     0.0     0.0   \n",
       "1            0.0     0.0     0.0     0.0     0.0     0.0    -1.0     0.0   \n",
       "2            0.0     0.0     0.0     1.0     0.0     0.0     0.0     0.0   \n",
       "3            0.0     0.0     0.0     0.0     0.0     0.0     0.0     0.0   \n",
       "4            0.0     0.0     0.0     0.0     0.0     0.0     0.0    -1.0   \n",
       "\n",
       "          hero_8  hero_9  ...  hero_102  hero_103  hero_104  hero_105  \\\n",
       "match_id                  ...                                           \n",
       "0            0.0     0.0  ...       0.0       0.0       1.0       0.0   \n",
       "1            0.0     0.0  ...       0.0       0.0       0.0       0.0   \n",
       "2            0.0     0.0  ...       0.0       0.0       0.0       0.0   \n",
       "3            0.0     0.0  ...       0.0       0.0       0.0       0.0   \n",
       "4            0.0     0.0  ...       0.0       0.0       0.0       0.0   \n",
       "\n",
       "          hero_106  hero_107  hero_108  hero_109  hero_110  hero_111  \n",
       "match_id                                                              \n",
       "0              0.0       0.0       0.0       0.0       0.0       0.0  \n",
       "1              0.0       0.0       0.0       0.0       0.0       0.0  \n",
       "2              0.0       0.0       0.0       0.0       0.0       0.0  \n",
       "3              0.0       0.0       0.0       0.0       0.0       0.0  \n",
       "4              0.0       0.0       0.0       0.0       0.0       0.0  \n",
       "\n",
       "[5 rows x 112 columns]"
      ]
     },
     "execution_count": 26,
     "metadata": {},
     "output_type": "execute_result"
    }
   ],
   "source": [
    "#4. Воспользуемся подходом \"мешок слов\" для кодирования информации о героях.\n",
    "def get_pick(data: pd.DataFrame) -> pd.DataFrame:\n",
    "    X_pick = np.zeros((data.shape[0], N))\n",
    "\n",
    "    for i, match_id in enumerate(data.index):\n",
    "        for p in range(1, 6):\n",
    "            X_pick[i, data.loc[match_id, f\"r{p}_hero\"] - 1] = 1\n",
    "            X_pick[i, data.loc[match_id, f\"d{p}_hero\"] - 1] = -1\n",
    "\n",
    "    return pd.DataFrame(X_pick, index=data.index, columns=[f\"hero_{i}\" for i in range(N)])\n",
    "\n",
    "X_pick = get_pick(train)\n",
    "X_pick.head()"
   ]
  },
  {
   "cell_type": "code",
   "execution_count": 27,
   "metadata": {},
   "outputs": [],
   "source": [
    "X_train = pd.concat([X_train, X_pick], axis=1)"
   ]
  },
  {
   "cell_type": "code",
   "execution_count": 28,
   "metadata": {},
   "outputs": [
    {
     "name": "stdout",
     "output_type": "stream",
     "text": [
      "C=1e-05\n",
      "Score: 0.699\n",
      "Time elapsed: 0:00:17.288686\n",
      "\n",
      "C=0.0001\n",
      "Score: 0.725\n",
      "Time elapsed: 0:00:24.603744\n",
      "\n",
      "C=0.001\n",
      "Score: 0.746\n",
      "Time elapsed: 0:00:16.010612\n",
      "\n",
      "C=0.01\n",
      "Score: 0.752\n",
      "Time elapsed: 0:00:28.059339\n",
      "\n",
      "C=0.1\n",
      "Score: 0.752\n",
      "Time elapsed: 0:00:33.713705\n",
      "\n",
      "C=1.0\n",
      "Score: 0.752\n",
      "Time elapsed: 0:00:34.745687\n",
      "\n",
      "C=10.0\n",
      "Score: 0.752\n",
      "Time elapsed: 0:00:56.633447\n",
      "\n",
      "C=100.0\n",
      "Score: 0.752\n",
      "Time elapsed: 0:00:37.826965\n",
      "\n",
      "C=1000.0\n",
      "Score: 0.752\n",
      "Time elapsed: 0:00:37.526327\n",
      "\n",
      "C=10000.0\n",
      "Score: 0.752\n",
      "Time elapsed: 0:00:32.206094\n",
      "\n",
      "C=100000.0\n",
      "Score: 0.752\n",
      "Time elapsed: 0:00:40.199637\n",
      "\n"
     ]
    },
    {
     "data": {
      "text/plain": [
       "<matplotlib.axes._subplots.AxesSubplot at 0xf0472466a0>"
      ]
     },
     "execution_count": 28,
     "metadata": {},
     "output_type": "execute_result"
    },
    {
     "data": {
      "image/png": "[encoded data removed]",
      "text/plain": [
       "<Figure size 432x288 with 1 Axes>"
      ]
     },
     "metadata": {
      "needs_background": "light"
     },
     "output_type": "display_data"
    }
   ],
   "source": [
    "#5. Проведите кросс-валидацию для логистической регрессии на новой выборке с подбором лучшего параметра регуляризации.\n",
    "scores = score_lr(X_train, y_train)\n",
    "scores.plot()"
   ]
  },
  {
   "cell_type": "code",
   "execution_count": 29,
   "metadata": {},
   "outputs": [
    {
     "name": "stdout",
     "output_type": "stream",
     "text": [
      "Наилучшее значение показателя AUC-ROC достигается при C = 0.10 и равно 0.75.\n"
     ]
    }
   ],
   "source": [
    "print_best_lr_score(scores)"
   ]
  },
  {
   "cell_type": "code",
   "execution_count": 30,
   "metadata": {},
   "outputs": [],
   "source": [
    "#После добавления \"мешка слов\" по героям качество заметно улучшилось.\n",
    "#Это объясняется тем, что вместо отсутствия данных о героях или случайного шума из id мы имеем\n",
    "#осмысленную разреженную матрицу для построения предсказания."
   ]
  },
  {
   "cell_type": "code",
   "execution_count": 31,
   "metadata": {},
   "outputs": [
    {
     "name": "stderr",
     "output_type": "stream",
     "text": [
      "C:\\ProgramData\\Anaconda3\\lib\\site-packages\\sklearn\\linear_model\\logistic.py:432: FutureWarning: Default solver will be changed to 'lbfgs' in 0.22. Specify a solver to silence this warning.\n",
      "  FutureWarning)\n"
     ]
    },
    {
     "data": {
      "text/plain": [
       "LogisticRegression(C=0.1, class_weight=None, dual=False, fit_intercept=True,\n",
       "                   intercept_scaling=1, l1_ratio=None, max_iter=100,\n",
       "                   multi_class='warn', n_jobs=None, penalty='l2',\n",
       "                   random_state=42, solver='warn', tol=0.0001, verbose=0,\n",
       "                   warm_start=False)"
      ]
     },
     "execution_count": 31,
     "metadata": {},
     "output_type": "execute_result"
    }
   ],
   "source": [
    "#6. Постройте предсказания вероятностей победы команды Radiant для тестовой выборки с помощью лучшей из изученных моделей\n",
    "#(лучшей с точки зрения AUC-ROC на кросс-валидации).\n",
    "model = LogisticRegression(C=0.1, random_state=42)\n",
    "model.fit(X_train, y_train)"
   ]
  },
  {
   "cell_type": "code",
   "execution_count": 33,
   "metadata": {},
   "outputs": [],
   "source": [
    "test = pd.read_csv(\"C:/Users/Юлия Витковская/Desktop/features_test.csv\", index_col=\"match_id\")\n",
    "test.fillna(0, inplace=True)"
   ]
  },
  {
   "cell_type": "code",
   "execution_count": 34,
   "metadata": {},
   "outputs": [
    {
     "data": {
      "text/html": [
       "<div>\n",
       "<style scoped>\n",
       "    .dataframe tbody tr th:only-of-type {\n",
       "        vertical-align: middle;\n",
       "    }\n",
       "\n",
       "    .dataframe tbody tr th {\n",
       "        vertical-align: top;\n",
       "    }\n",
       "\n",
       "    .dataframe thead th {\n",
       "        text-align: right;\n",
       "    }\n",
       "</style>\n",
       "<table border=\"1\" class=\"dataframe\">\n",
       "  <thead>\n",
       "    <tr style=\"text-align: right;\">\n",
       "      <th></th>\n",
       "      <th>start_time</th>\n",
       "      <th>r1_level</th>\n",
       "      <th>r1_xp</th>\n",
       "      <th>r1_gold</th>\n",
       "      <th>r1_lh</th>\n",
       "      <th>r1_kills</th>\n",
       "      <th>r1_deaths</th>\n",
       "      <th>r1_items</th>\n",
       "      <th>r2_level</th>\n",
       "      <th>r2_xp</th>\n",
       "      <th>...</th>\n",
       "      <th>hero_102</th>\n",
       "      <th>hero_103</th>\n",
       "      <th>hero_104</th>\n",
       "      <th>hero_105</th>\n",
       "      <th>hero_106</th>\n",
       "      <th>hero_107</th>\n",
       "      <th>hero_108</th>\n",
       "      <th>hero_109</th>\n",
       "      <th>hero_110</th>\n",
       "      <th>hero_111</th>\n",
       "    </tr>\n",
       "    <tr>\n",
       "      <th>match_id</th>\n",
       "      <th></th>\n",
       "      <th></th>\n",
       "      <th></th>\n",
       "      <th></th>\n",
       "      <th></th>\n",
       "      <th></th>\n",
       "      <th></th>\n",
       "      <th></th>\n",
       "      <th></th>\n",
       "      <th></th>\n",
       "      <th></th>\n",
       "      <th></th>\n",
       "      <th></th>\n",
       "      <th></th>\n",
       "      <th></th>\n",
       "      <th></th>\n",
       "      <th></th>\n",
       "      <th></th>\n",
       "      <th></th>\n",
       "      <th></th>\n",
       "      <th></th>\n",
       "    </tr>\n",
       "  </thead>\n",
       "  <tbody>\n",
       "    <tr>\n",
       "      <th>6</th>\n",
       "      <td>-2.528200</td>\n",
       "      <td>0.501314</td>\n",
       "      <td>-0.230161</td>\n",
       "      <td>-0.126909</td>\n",
       "      <td>-0.357459</td>\n",
       "      <td>-0.537757</td>\n",
       "      <td>1.017574</td>\n",
       "      <td>0.291758</td>\n",
       "      <td>-0.332256</td>\n",
       "      <td>-0.011207</td>\n",
       "      <td>...</td>\n",
       "      <td>0.0</td>\n",
       "      <td>0.0</td>\n",
       "      <td>0.0</td>\n",
       "      <td>0.0</td>\n",
       "      <td>0.0</td>\n",
       "      <td>0.0</td>\n",
       "      <td>0.0</td>\n",
       "      <td>0.0</td>\n",
       "      <td>0.0</td>\n",
       "      <td>0.0</td>\n",
       "    </tr>\n",
       "    <tr>\n",
       "      <th>7</th>\n",
       "      <td>-2.527214</td>\n",
       "      <td>-1.297676</td>\n",
       "      <td>-1.195592</td>\n",
       "      <td>-1.245180</td>\n",
       "      <td>-1.131661</td>\n",
       "      <td>-0.537757</td>\n",
       "      <td>-0.578083</td>\n",
       "      <td>0.291758</td>\n",
       "      <td>0.578881</td>\n",
       "      <td>0.008600</td>\n",
       "      <td>...</td>\n",
       "      <td>0.0</td>\n",
       "      <td>0.0</td>\n",
       "      <td>0.0</td>\n",
       "      <td>0.0</td>\n",
       "      <td>0.0</td>\n",
       "      <td>0.0</td>\n",
       "      <td>0.0</td>\n",
       "      <td>0.0</td>\n",
       "      <td>0.0</td>\n",
       "      <td>0.0</td>\n",
       "    </tr>\n",
       "    <tr>\n",
       "      <th>10</th>\n",
       "      <td>-2.525688</td>\n",
       "      <td>-1.297676</td>\n",
       "      <td>-0.851426</td>\n",
       "      <td>-0.732370</td>\n",
       "      <td>-1.131661</td>\n",
       "      <td>-0.537757</td>\n",
       "      <td>-0.578083</td>\n",
       "      <td>1.893320</td>\n",
       "      <td>-1.243393</td>\n",
       "      <td>-1.383288</td>\n",
       "      <td>...</td>\n",
       "      <td>0.0</td>\n",
       "      <td>0.0</td>\n",
       "      <td>0.0</td>\n",
       "      <td>0.0</td>\n",
       "      <td>0.0</td>\n",
       "      <td>0.0</td>\n",
       "      <td>0.0</td>\n",
       "      <td>0.0</td>\n",
       "      <td>0.0</td>\n",
       "      <td>1.0</td>\n",
       "    </tr>\n",
       "    <tr>\n",
       "      <th>13</th>\n",
       "      <td>-2.521671</td>\n",
       "      <td>-0.398181</td>\n",
       "      <td>-0.927319</td>\n",
       "      <td>-0.527677</td>\n",
       "      <td>-1.131661</td>\n",
       "      <td>0.968527</td>\n",
       "      <td>1.017574</td>\n",
       "      <td>1.092539</td>\n",
       "      <td>-1.243393</td>\n",
       "      <td>-0.931329</td>\n",
       "      <td>...</td>\n",
       "      <td>0.0</td>\n",
       "      <td>0.0</td>\n",
       "      <td>0.0</td>\n",
       "      <td>0.0</td>\n",
       "      <td>0.0</td>\n",
       "      <td>0.0</td>\n",
       "      <td>0.0</td>\n",
       "      <td>-1.0</td>\n",
       "      <td>0.0</td>\n",
       "      <td>0.0</td>\n",
       "    </tr>\n",
       "    <tr>\n",
       "      <th>16</th>\n",
       "      <td>-2.520369</td>\n",
       "      <td>0.501314</td>\n",
       "      <td>0.045173</td>\n",
       "      <td>-1.049106</td>\n",
       "      <td>-0.799860</td>\n",
       "      <td>-0.537757</td>\n",
       "      <td>-0.578083</td>\n",
       "      <td>0.291758</td>\n",
       "      <td>1.490017</td>\n",
       "      <td>0.925122</td>\n",
       "      <td>...</td>\n",
       "      <td>0.0</td>\n",
       "      <td>0.0</td>\n",
       "      <td>0.0</td>\n",
       "      <td>0.0</td>\n",
       "      <td>0.0</td>\n",
       "      <td>0.0</td>\n",
       "      <td>0.0</td>\n",
       "      <td>0.0</td>\n",
       "      <td>0.0</td>\n",
       "      <td>0.0</td>\n",
       "    </tr>\n",
       "  </tbody>\n",
       "</table>\n",
       "<p>5 rows × 203 columns</p>\n",
       "</div>"
      ],
      "text/plain": [
       "          start_time  r1_level     r1_xp   r1_gold     r1_lh  r1_kills  \\\n",
       "match_id                                                                 \n",
       "6          -2.528200  0.501314 -0.230161 -0.126909 -0.357459 -0.537757   \n",
       "7          -2.527214 -1.297676 -1.195592 -1.245180 -1.131661 -0.537757   \n",
       "10         -2.525688 -1.297676 -0.851426 -0.732370 -1.131661 -0.537757   \n",
       "13         -2.521671 -0.398181 -0.927319 -0.527677 -1.131661  0.968527   \n",
       "16         -2.520369  0.501314  0.045173 -1.049106 -0.799860 -0.537757   \n",
       "\n",
       "          r1_deaths  r1_items  r2_level     r2_xp  ...  hero_102  hero_103  \\\n",
       "match_id                                           ...                       \n",
       "6          1.017574  0.291758 -0.332256 -0.011207  ...       0.0       0.0   \n",
       "7         -0.578083  0.291758  0.578881  0.008600  ...       0.0       0.0   \n",
       "10        -0.578083  1.893320 -1.243393 -1.383288  ...       0.0       0.0   \n",
       "13         1.017574  1.092539 -1.243393 -0.931329  ...       0.0       0.0   \n",
       "16        -0.578083  0.291758  1.490017  0.925122  ...       0.0       0.0   \n",
       "\n",
       "          hero_104  hero_105  hero_106  hero_107  hero_108  hero_109  \\\n",
       "match_id                                                               \n",
       "6              0.0       0.0       0.0       0.0       0.0       0.0   \n",
       "7              0.0       0.0       0.0       0.0       0.0       0.0   \n",
       "10             0.0       0.0       0.0       0.0       0.0       0.0   \n",
       "13             0.0       0.0       0.0       0.0       0.0      -1.0   \n",
       "16             0.0       0.0       0.0       0.0       0.0       0.0   \n",
       "\n",
       "          hero_110  hero_111  \n",
       "match_id                      \n",
       "6              0.0       0.0  \n",
       "7              0.0       0.0  \n",
       "10             0.0       1.0  \n",
       "13             0.0       0.0  \n",
       "16             0.0       0.0  \n",
       "\n",
       "[5 rows x 203 columns]"
      ]
     },
     "execution_count": 34,
     "metadata": {},
     "output_type": "execute_result"
    }
   ],
   "source": [
    "X_test = pd.DataFrame(scaler.transform(test), index=test.index, columns=test.columns)\n",
    "X_test.drop(cat_columns, axis=1, inplace=True)\n",
    "X_test = pd.concat([X_test, get_pick(test)], axis=1)\n",
    "X_test.head()"
   ]
  },
  {
   "cell_type": "code",
   "execution_count": 35,
   "metadata": {},
   "outputs": [
    {
     "data": {
      "text/plain": [
       "count    17177.000000\n",
       "mean         0.517023\n",
       "std          0.220954\n",
       "min          0.008429\n",
       "25%          0.346078\n",
       "50%          0.522133\n",
       "75%          0.691681\n",
       "max          0.996371\n",
       "dtype: float64"
      ]
     },
     "execution_count": 35,
     "metadata": {},
     "output_type": "execute_result"
    }
   ],
   "source": [
    "preds = pd.Series(model.predict_proba(X_test)[:, 1])\n",
    "preds.describe()"
   ]
  },
  {
   "cell_type": "code",
   "execution_count": 36,
   "metadata": {},
   "outputs": [
    {
     "data": {
      "text/plain": [
       "<matplotlib.axes._subplots.AxesSubplot at 0xf0472d4d68>"
      ]
     },
     "execution_count": 36,
     "metadata": {},
     "output_type": "execute_result"
    },
    {
     "data": {
      "image/png": "[encoded data removed]",
      "text/plain": [
       "<Figure size 432x288 with 1 Axes>"
      ]
     },
     "metadata": {
      "needs_background": "light"
     },
     "output_type": "display_data"
    }
   ],
   "source": [
    "preds.plot.hist(bins=30)"
   ]
  }
 ],
 "metadata": {
  "kernelspec": {
   "display_name": "Python 3",
   "language": "python",
   "name": "python3"
  },
  "language_info": {
   "codemirror_mode": {
    "name": "ipython",
    "version": 3
   },
   "file_extension": ".py",
   "mimetype": "text/x-python",
   "name": "python",
   "nbconvert_exporter": "python",
   "pygments_lexer": "ipython3",
   "version": "3.7.3"
  }
 },
 "nbformat": 4,
 "nbformat_minor": 2
}
